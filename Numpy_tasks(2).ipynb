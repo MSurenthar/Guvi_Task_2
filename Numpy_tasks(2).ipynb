{
  "cells": [
    {
      "cell_type": "markdown",
      "metadata": {
        "id": "view-in-github",
        "colab_type": "text"
      },
      "source": [
        "<a href=\"https://colab.research.google.com/github/MSurenthar/Guvi_Task_2/blob/main/Numpy_tasks(2).ipynb\" target=\"_parent\"><img src=\"https://colab.research.google.com/assets/colab-badge.svg\" alt=\"Open In Colab\"/></a>"
      ]
    },
    {
      "cell_type": "markdown",
      "metadata": {
        "id": "d0k3QQoSryWn"
      },
      "source": [
        "# Numpy\n",
        "\n"
      ]
    },
    {
      "cell_type": "markdown",
      "metadata": {
        "id": "ljPK2ZYVryWp"
      },
      "source": [
        "#### 1. Import the numpy package under the name `np` (★☆☆) \n",
        "(**hint**: import … as …)"
      ]
    },
    {
      "cell_type": "code",
      "execution_count": null,
      "metadata": {
        "collapsed": true,
        "id": "zoqjZER9ryWr"
      },
      "outputs": [],
      "source": [
        "import numpy as np"
      ]
    },
    {
      "cell_type": "markdown",
      "metadata": {
        "id": "os0Fyj6bryWs"
      },
      "source": [
        "#### 2. Print the numpy version and the configuration (★☆☆) \n",
        "(**hint**: np.\\_\\_version\\_\\_, np.show\\_config)"
      ]
    },
    {
      "cell_type": "code",
      "execution_count": null,
      "metadata": {
        "colab": {
          "base_uri": "https://localhost:8080/"
        },
        "id": "q5WXMmO4ryWt",
        "outputId": "9ff8491c-fe17-4f04-f5c9-ced09d48c181"
      },
      "outputs": [
        {
          "output_type": "stream",
          "name": "stdout",
          "text": [
            "1.21.6\n",
            "blas_mkl_info:\n",
            "  NOT AVAILABLE\n",
            "blis_info:\n",
            "  NOT AVAILABLE\n",
            "openblas_info:\n",
            "    libraries = ['openblas', 'openblas']\n",
            "    library_dirs = ['/usr/local/lib']\n",
            "    language = c\n",
            "    define_macros = [('HAVE_CBLAS', None)]\n",
            "    runtime_library_dirs = ['/usr/local/lib']\n",
            "blas_opt_info:\n",
            "    libraries = ['openblas', 'openblas']\n",
            "    library_dirs = ['/usr/local/lib']\n",
            "    language = c\n",
            "    define_macros = [('HAVE_CBLAS', None)]\n",
            "    runtime_library_dirs = ['/usr/local/lib']\n",
            "lapack_mkl_info:\n",
            "  NOT AVAILABLE\n",
            "openblas_lapack_info:\n",
            "    libraries = ['openblas', 'openblas']\n",
            "    library_dirs = ['/usr/local/lib']\n",
            "    language = c\n",
            "    define_macros = [('HAVE_CBLAS', None)]\n",
            "    runtime_library_dirs = ['/usr/local/lib']\n",
            "lapack_opt_info:\n",
            "    libraries = ['openblas', 'openblas']\n",
            "    library_dirs = ['/usr/local/lib']\n",
            "    language = c\n",
            "    define_macros = [('HAVE_CBLAS', None)]\n",
            "    runtime_library_dirs = ['/usr/local/lib']\n",
            "Supported SIMD extensions in this NumPy install:\n",
            "    baseline = SSE,SSE2,SSE3\n",
            "    found = SSSE3,SSE41,POPCNT,SSE42,AVX,F16C,FMA3,AVX2\n",
            "    not found = AVX512F,AVX512CD,AVX512_KNL,AVX512_KNM,AVX512_SKX,AVX512_CLX,AVX512_CNL,AVX512_ICL\n",
            "None\n"
          ]
        }
      ],
      "source": [
        "print(np.__version__)\n",
        "print(np.show_config())"
      ]
    },
    {
      "cell_type": "markdown",
      "metadata": {
        "id": "JuPLQdg8ryWt"
      },
      "source": [
        "#### 3. Create a null vector of size 10 (★☆☆) \n",
        "(**hint**: np.zeros)"
      ]
    },
    {
      "cell_type": "code",
      "execution_count": null,
      "metadata": {
        "colab": {
          "base_uri": "https://localhost:8080/"
        },
        "id": "vodCZeW9ryWu",
        "outputId": "51f5c8c4-bbc9-471c-8510-b2a6fbbdb680"
      },
      "outputs": [
        {
          "output_type": "execute_result",
          "data": {
            "text/plain": [
              "array([0., 0., 0., 0., 0., 0., 0., 0., 0., 0.])"
            ]
          },
          "metadata": {},
          "execution_count": 4
        }
      ],
      "source": [
        "np.zeros(10)"
      ]
    },
    {
      "cell_type": "markdown",
      "metadata": {
        "id": "xCbAqrUBryWv"
      },
      "source": [
        "#### 4.  How to find the memory size of any array (★☆☆) \n",
        "(**hint**: size, itemsize)"
      ]
    },
    {
      "cell_type": "code",
      "execution_count": null,
      "metadata": {
        "colab": {
          "base_uri": "https://localhost:8080/"
        },
        "id": "xFbhmDTwryWw",
        "outputId": "fc92489c-d11c-4601-818a-c18637e01962"
      },
      "outputs": [
        {
          "output_type": "stream",
          "name": "stdout",
          "text": [
            "10\n",
            "8\n"
          ]
        }
      ],
      "source": [
        "print(np.zeros(10).size)\n",
        "print(np.zeros(10).itemsize)"
      ]
    },
    {
      "cell_type": "markdown",
      "metadata": {
        "id": "sKPzS5W8ryWw"
      },
      "source": [
        "#### 5.  How to get the documentation of the numpy add function from the command line? (★☆☆) \n",
        "(**hint**: np.info)"
      ]
    },
    {
      "cell_type": "code",
      "execution_count": null,
      "metadata": {
        "colab": {
          "base_uri": "https://localhost:8080/"
        },
        "collapsed": true,
        "id": "LZDvgC5CryWx",
        "outputId": "926b00bc-cf7b-4f4c-fc3b-52ca558e98bf"
      },
      "outputs": [
        {
          "output_type": "stream",
          "name": "stdout",
          "text": [
            "add(x1, x2, /, out=None, *, where=True, casting='same_kind', order='K', dtype=None, subok=True[, signature, extobj])\n",
            "\n",
            "Add arguments element-wise.\n",
            "\n",
            "Parameters\n",
            "----------\n",
            "x1, x2 : array_like\n",
            "    The arrays to be added.\n",
            "    If ``x1.shape != x2.shape``, they must be broadcastable to a common\n",
            "    shape (which becomes the shape of the output).\n",
            "out : ndarray, None, or tuple of ndarray and None, optional\n",
            "    A location into which the result is stored. If provided, it must have\n",
            "    a shape that the inputs broadcast to. If not provided or None,\n",
            "    a freshly-allocated array is returned. A tuple (possible only as a\n",
            "    keyword argument) must have length equal to the number of outputs.\n",
            "where : array_like, optional\n",
            "    This condition is broadcast over the input. At locations where the\n",
            "    condition is True, the `out` array will be set to the ufunc result.\n",
            "    Elsewhere, the `out` array will retain its original value.\n",
            "    Note that if an uninitialized `out` array is created via the default\n",
            "    ``out=None``, locations within it where the condition is False will\n",
            "    remain uninitialized.\n",
            "**kwargs\n",
            "    For other keyword-only arguments, see the\n",
            "    :ref:`ufunc docs <ufuncs.kwargs>`.\n",
            "\n",
            "Returns\n",
            "-------\n",
            "add : ndarray or scalar\n",
            "    The sum of `x1` and `x2`, element-wise.\n",
            "    This is a scalar if both `x1` and `x2` are scalars.\n",
            "\n",
            "Notes\n",
            "-----\n",
            "Equivalent to `x1` + `x2` in terms of array broadcasting.\n",
            "\n",
            "Examples\n",
            "--------\n",
            ">>> np.add(1.0, 4.0)\n",
            "5.0\n",
            ">>> x1 = np.arange(9.0).reshape((3, 3))\n",
            ">>> x2 = np.arange(3.0)\n",
            ">>> np.add(x1, x2)\n",
            "array([[  0.,   2.,   4.],\n",
            "       [  3.,   5.,   7.],\n",
            "       [  6.,   8.,  10.]])\n",
            "\n",
            "The ``+`` operator can be used as a shorthand for ``np.add`` on ndarrays.\n",
            "\n",
            ">>> x1 = np.arange(9.0).reshape((3, 3))\n",
            ">>> x2 = np.arange(3.0)\n",
            ">>> x1 + x2\n",
            "array([[ 0.,  2.,  4.],\n",
            "       [ 3.,  5.,  7.],\n",
            "       [ 6.,  8., 10.]])\n"
          ]
        }
      ],
      "source": [
        "np.info(np.add)"
      ]
    },
    {
      "cell_type": "markdown",
      "metadata": {
        "id": "QRSYhLq6ryWx"
      },
      "source": [
        "#### 6.  Create a null vector of size 10 but the fifth value which is 1 (★☆☆) \n",
        "(**hint**: array\\[4\\])"
      ]
    },
    {
      "cell_type": "code",
      "execution_count": null,
      "metadata": {
        "colab": {
          "base_uri": "https://localhost:8080/"
        },
        "id": "dbMoVGvcryWy",
        "outputId": "3b34e690-7014-43b3-9182-cf9272a9a0fd"
      },
      "outputs": [
        {
          "output_type": "stream",
          "name": "stdout",
          "text": [
            "[0. 0. 0. 0. 1. 0. 0. 0. 0. 0.]\n"
          ]
        }
      ],
      "source": [
        "a = np.zeros(10)\n",
        "a[4] = 1\n",
        "print(a)"
      ]
    },
    {
      "cell_type": "markdown",
      "metadata": {
        "id": "q8DRtQSOryWy"
      },
      "source": [
        "#### 7.  Create a vector with values ranging from 10 to 49 (★☆☆) \n",
        "(**hint**: np.arange)"
      ]
    },
    {
      "cell_type": "code",
      "execution_count": null,
      "metadata": {
        "colab": {
          "base_uri": "https://localhost:8080/"
        },
        "id": "cx8ZtRMJryWz",
        "outputId": "15276908-df9c-452c-b70f-364d241fbc53"
      },
      "outputs": [
        {
          "output_type": "stream",
          "name": "stdout",
          "text": [
            "[10 11 12 13 14 15 16 17 18 19 20 21 22 23 24 25 26 27 28 29 30 31 32 33\n",
            " 34 35 36 37 38 39 40 41 42 43 44 45 46 47 48 49]\n"
          ]
        }
      ],
      "source": [
        "b = np.arange(10,50)\n",
        "print(b)"
      ]
    },
    {
      "cell_type": "markdown",
      "metadata": {
        "id": "lXbkSGWBryWz"
      },
      "source": [
        "#### 8.  Reverse a vector (first element becomes last) (★☆☆) \n",
        "(**hint**: array\\[::-1\\])"
      ]
    },
    {
      "cell_type": "code",
      "execution_count": null,
      "metadata": {
        "colab": {
          "base_uri": "https://localhost:8080/"
        },
        "id": "ssivFonrryW0",
        "outputId": "7943ff16-481b-439f-9ff2-3b4cf4d0e52e"
      },
      "outputs": [
        {
          "output_type": "execute_result",
          "data": {
            "text/plain": [
              "array([49, 48, 47, 46, 45, 44, 43, 42, 41, 40, 39, 38, 37, 36, 35, 34, 33,\n",
              "       32, 31, 30, 29, 28, 27, 26, 25, 24, 23, 22, 21, 20, 19, 18, 17, 16,\n",
              "       15, 14, 13, 12, 11, 10])"
            ]
          },
          "metadata": {},
          "execution_count": 9
        }
      ],
      "source": [
        "b[::-1]"
      ]
    },
    {
      "cell_type": "markdown",
      "metadata": {
        "id": "U3DNK6_mryW0"
      },
      "source": [
        "#### 9.  Create a 3x3 matrix with values ranging from 0 to 8 (★☆☆) \n",
        "(**hint**: reshape)"
      ]
    },
    {
      "cell_type": "code",
      "execution_count": null,
      "metadata": {
        "colab": {
          "base_uri": "https://localhost:8080/"
        },
        "id": "rbRiWRHAryW0",
        "outputId": "3010f8d3-668f-4df7-e9c2-8ad34b90fd67"
      },
      "outputs": [
        {
          "output_type": "execute_result",
          "data": {
            "text/plain": [
              "array([[0, 1, 2],\n",
              "       [3, 4, 5],\n",
              "       [6, 7, 8]])"
            ]
          },
          "metadata": {},
          "execution_count": 10
        }
      ],
      "source": [
        "np.arange(9).reshape(3,3)"
      ]
    },
    {
      "cell_type": "markdown",
      "metadata": {
        "id": "zF7BO0Q0ryW1"
      },
      "source": [
        "#### 10. Find indices of non-zero elements from \\[1,2,0,0,4,0\\] (★☆☆) \n",
        "(**hint**: np.nonzero)"
      ]
    },
    {
      "cell_type": "code",
      "execution_count": null,
      "metadata": {
        "colab": {
          "base_uri": "https://localhost:8080/"
        },
        "id": "1vidEgSmryW1",
        "outputId": "fb9336d4-af7c-4e72-d40e-f1589142a0c4"
      },
      "outputs": [
        {
          "output_type": "execute_result",
          "data": {
            "text/plain": [
              "(array([0, 1, 4]),)"
            ]
          },
          "metadata": {},
          "execution_count": 11
        }
      ],
      "source": [
        "c = [1,2,0,0,4,0]\n",
        "np.nonzero(c)"
      ]
    },
    {
      "cell_type": "markdown",
      "metadata": {
        "id": "Akkv77fMryW2"
      },
      "source": [
        "#### 11. Create a 3x3 identity matrix (★☆☆) \n",
        "(**hint**: np.eye)"
      ]
    },
    {
      "cell_type": "code",
      "execution_count": null,
      "metadata": {
        "colab": {
          "base_uri": "https://localhost:8080/"
        },
        "id": "TmnuvHQsryW2",
        "outputId": "9be25f46-45f3-453f-e8ec-6309e07944f7"
      },
      "outputs": [
        {
          "output_type": "execute_result",
          "data": {
            "text/plain": [
              "array([[1., 0., 0.],\n",
              "       [0., 1., 0.],\n",
              "       [0., 0., 1.]])"
            ]
          },
          "metadata": {},
          "execution_count": 12
        }
      ],
      "source": [
        "np.eye(3)"
      ]
    },
    {
      "cell_type": "markdown",
      "metadata": {
        "id": "DZIZ4WjDryW2"
      },
      "source": [
        "#### 12. Create a 3x3x3 array with random values (★☆☆) \n",
        "(**hint**: np.random.random)"
      ]
    },
    {
      "cell_type": "code",
      "execution_count": null,
      "metadata": {
        "colab": {
          "base_uri": "https://localhost:8080/"
        },
        "collapsed": true,
        "id": "gMmABVdbryW2",
        "outputId": "63d0a8a7-d657-483a-8618-5fe9e0c0e468"
      },
      "outputs": [
        {
          "output_type": "execute_result",
          "data": {
            "text/plain": [
              "array([[[0.43503709, 0.62917589, 0.12467416],\n",
              "        [0.042844  , 0.74538222, 0.62128981],\n",
              "        [0.96228536, 0.92550266, 0.10047768]],\n",
              "\n",
              "       [[0.28694421, 0.99187464, 0.79586488],\n",
              "        [0.54014891, 0.68926613, 0.34472496],\n",
              "        [0.99074826, 0.64846452, 0.79592617]],\n",
              "\n",
              "       [[0.68329394, 0.82838967, 0.65138374],\n",
              "        [0.94948598, 0.27952938, 0.32630404],\n",
              "        [0.24630614, 0.40996732, 0.27430089]]])"
            ]
          },
          "metadata": {},
          "execution_count": 13
        }
      ],
      "source": [
        "np.random.random((3,3,3))"
      ]
    },
    {
      "cell_type": "markdown",
      "metadata": {
        "id": "NnMBGBe2ryW3"
      },
      "source": [
        "#### 13. Create a 10x10 array with random values and find the minimum and maximum values (★☆☆) \n",
        "(**hint**: min, max)"
      ]
    },
    {
      "cell_type": "code",
      "execution_count": null,
      "metadata": {
        "colab": {
          "base_uri": "https://localhost:8080/"
        },
        "id": "i6S-YOopryW3",
        "outputId": "4584ae60-b40a-4240-d351-ad57036afea2"
      },
      "outputs": [
        {
          "output_type": "stream",
          "name": "stdout",
          "text": [
            "0.006283802668906158\n",
            "0.992263287618246\n"
          ]
        }
      ],
      "source": [
        "a = np.random.random((10,10))\n",
        "print(a.min())\n",
        "print(a.max())"
      ]
    },
    {
      "cell_type": "markdown",
      "metadata": {
        "id": "2r49fddXryW3"
      },
      "source": [
        "#### 14. Create a random vector of size 30 and find the mean value (★☆☆) \n",
        "(**hint**: mean)"
      ]
    },
    {
      "cell_type": "code",
      "execution_count": null,
      "metadata": {
        "colab": {
          "base_uri": "https://localhost:8080/"
        },
        "id": "Yn4uV-xyryW3",
        "outputId": "6cf74aae-d026-4229-bdbc-3d26751776ec"
      },
      "outputs": [
        {
          "output_type": "execute_result",
          "data": {
            "text/plain": [
              "0.524178042916988"
            ]
          },
          "metadata": {},
          "execution_count": 15
        }
      ],
      "source": [
        "a = np.random.random(30)\n",
        "a.mean()"
      ]
    },
    {
      "cell_type": "markdown",
      "metadata": {
        "id": "gBrSktDpryW4"
      },
      "source": [
        "#### 15. Create a 2d array with 1 on the border and 0 inside (★☆☆) \n",
        "(**hint**: array\\[1:-1, 1:-1\\])"
      ]
    },
    {
      "cell_type": "code",
      "execution_count": null,
      "metadata": {
        "colab": {
          "base_uri": "https://localhost:8080/"
        },
        "id": "DZRrRBrVryW4",
        "outputId": "7538d47c-80fa-43b9-a7de-b2264d50bb06"
      },
      "outputs": [
        {
          "output_type": "execute_result",
          "data": {
            "text/plain": [
              "array([[1., 1., 1., 1., 1.],\n",
              "       [1., 0., 0., 0., 1.],\n",
              "       [1., 0., 0., 0., 1.],\n",
              "       [1., 0., 0., 0., 1.],\n",
              "       [1., 1., 1., 1., 1.]])"
            ]
          },
          "metadata": {},
          "execution_count": 16
        }
      ],
      "source": [
        "a = np.ones((5,5))\n",
        "a[1:-1,1:-1] = 0\n",
        "a"
      ]
    },
    {
      "cell_type": "markdown",
      "metadata": {
        "id": "efuWAQJnryW4"
      },
      "source": [
        "#### 16. How to add a border (filled with 0's) around an existing array? (★☆☆) \n",
        "(**hint**: np.pad)"
      ]
    },
    {
      "cell_type": "code",
      "execution_count": null,
      "metadata": {
        "colab": {
          "base_uri": "https://localhost:8080/"
        },
        "id": "28AKpi10ryW4",
        "outputId": "bacd94fc-e378-4796-a2c4-18acbdbea564"
      },
      "outputs": [
        {
          "output_type": "execute_result",
          "data": {
            "text/plain": [
              "array([[0., 0., 0., 0., 0., 0., 0.],\n",
              "       [0., 1., 1., 1., 1., 1., 0.],\n",
              "       [0., 1., 0., 0., 0., 1., 0.],\n",
              "       [0., 1., 0., 0., 0., 1., 0.],\n",
              "       [0., 1., 0., 0., 0., 1., 0.],\n",
              "       [0., 1., 1., 1., 1., 1., 0.],\n",
              "       [0., 0., 0., 0., 0., 0., 0.]])"
            ]
          },
          "metadata": {},
          "execution_count": 17
        }
      ],
      "source": [
        "np.pad(a,pad_width=1,mode=\"constant\",constant_values = 0)"
      ]
    },
    {
      "cell_type": "markdown",
      "metadata": {
        "id": "VtUZkmnpryW4"
      },
      "source": [
        "#### 17. What is the result of the following expression? (★☆☆) \n",
        "(**hint**: NaN = not a number, inf = infinity)"
      ]
    },
    {
      "cell_type": "markdown",
      "metadata": {
        "id": "LCixKpH2ryW5"
      },
      "source": [
        "```python\n",
        "0 * np.nan\n",
        "np.nan == np.nan\n",
        "np.inf > np.nan\n",
        "np.nan - np.nan\n",
        "0.3 == 3 * 0.1\n",
        "```"
      ]
    },
    {
      "cell_type": "code",
      "execution_count": null,
      "metadata": {
        "colab": {
          "base_uri": "https://localhost:8080/"
        },
        "id": "rQcMs1dkryW5",
        "outputId": "68d8b8d4-a4e7-45bd-c45b-a0633db146b8"
      },
      "outputs": [
        {
          "output_type": "execute_result",
          "data": {
            "text/plain": [
              "nan"
            ]
          },
          "metadata": {},
          "execution_count": 18
        }
      ],
      "source": [
        "0 * np.nan"
      ]
    },
    {
      "cell_type": "code",
      "execution_count": null,
      "metadata": {
        "colab": {
          "base_uri": "https://localhost:8080/"
        },
        "id": "VjEQb_y9MJUQ",
        "outputId": "e48d7168-af93-4bf2-aae2-fada84b2ead9"
      },
      "outputs": [
        {
          "output_type": "execute_result",
          "data": {
            "text/plain": [
              "False"
            ]
          },
          "metadata": {},
          "execution_count": 19
        }
      ],
      "source": [
        "np.nan == np.nan"
      ]
    },
    {
      "cell_type": "code",
      "execution_count": null,
      "metadata": {
        "colab": {
          "base_uri": "https://localhost:8080/"
        },
        "id": "3NC6QNtdMOsS",
        "outputId": "d4455df1-4045-4d68-8d91-98cd26991361"
      },
      "outputs": [
        {
          "output_type": "execute_result",
          "data": {
            "text/plain": [
              "False"
            ]
          },
          "metadata": {},
          "execution_count": 20
        }
      ],
      "source": [
        "np.inf > np.nan"
      ]
    },
    {
      "cell_type": "code",
      "execution_count": null,
      "metadata": {
        "colab": {
          "base_uri": "https://localhost:8080/"
        },
        "id": "HZQqQdMGMU2V",
        "outputId": "89bec5b2-1327-4905-eb77-37ee5ed9f366"
      },
      "outputs": [
        {
          "output_type": "execute_result",
          "data": {
            "text/plain": [
              "nan"
            ]
          },
          "metadata": {},
          "execution_count": 21
        }
      ],
      "source": [
        "np.nan - np.nan"
      ]
    },
    {
      "cell_type": "code",
      "execution_count": null,
      "metadata": {
        "colab": {
          "base_uri": "https://localhost:8080/"
        },
        "id": "FxpdjH3hMaQ4",
        "outputId": "91d8cc9b-2125-4463-ea71-48ba65cc3853"
      },
      "outputs": [
        {
          "output_type": "execute_result",
          "data": {
            "text/plain": [
              "False"
            ]
          },
          "metadata": {},
          "execution_count": 22
        }
      ],
      "source": [
        "0.3 == 3 * 0.1"
      ]
    },
    {
      "cell_type": "markdown",
      "metadata": {
        "id": "vd3ntkvhryW5"
      },
      "source": [
        "#### 18. Create a 5x5 matrix with values 1,2,3,4 just below the diagonal (★☆☆) \n",
        "(**hint**: np.diag)"
      ]
    },
    {
      "cell_type": "code",
      "execution_count": null,
      "metadata": {
        "colab": {
          "base_uri": "https://localhost:8080/"
        },
        "id": "DkP_okW2ryW6",
        "outputId": "d48480f6-cbcc-4195-a151-bdfde0476237"
      },
      "outputs": [
        {
          "output_type": "execute_result",
          "data": {
            "text/plain": [
              "array([[0, 0, 0, 0, 0],\n",
              "       [1, 0, 0, 0, 0],\n",
              "       [0, 2, 0, 0, 0],\n",
              "       [0, 0, 3, 0, 0],\n",
              "       [0, 0, 0, 4, 0]])"
            ]
          },
          "metadata": {},
          "execution_count": 23
        }
      ],
      "source": [
        "np.diag(np.arange(1,5),k=-1)"
      ]
    },
    {
      "cell_type": "markdown",
      "metadata": {
        "id": "tFl0xnTQryW6"
      },
      "source": [
        "#### 19. Create a 8x8 matrix and fill it with a checkerboard pattern (★☆☆) \n",
        "(**hint**: array\\[::2\\])"
      ]
    },
    {
      "cell_type": "code",
      "execution_count": null,
      "metadata": {
        "colab": {
          "base_uri": "https://localhost:8080/"
        },
        "id": "wg_gN4DCryW6",
        "outputId": "b08399df-7f06-423b-d35b-bf1cbe2ba1c3"
      },
      "outputs": [
        {
          "output_type": "execute_result",
          "data": {
            "text/plain": [
              "array([[1., 0., 1., 0., 1., 0., 1., 0.],\n",
              "       [0., 1., 0., 1., 0., 1., 0., 1.],\n",
              "       [1., 0., 1., 0., 1., 0., 1., 0.],\n",
              "       [0., 1., 0., 1., 0., 1., 0., 1.],\n",
              "       [1., 0., 1., 0., 1., 0., 1., 0.],\n",
              "       [0., 1., 0., 1., 0., 1., 0., 1.],\n",
              "       [1., 0., 1., 0., 1., 0., 1., 0.],\n",
              "       [0., 1., 0., 1., 0., 1., 0., 1.]])"
            ]
          },
          "metadata": {},
          "execution_count": 24
        }
      ],
      "source": [
        "a = np.ones((8,8))\n",
        "a[1::2,::2] = 0\n",
        "a[::2,1::2] = 0\n",
        "a"
      ]
    },
    {
      "cell_type": "markdown",
      "metadata": {
        "id": "qJhqYQcBryW6"
      },
      "source": [
        "#### 20. Consider a (6,7,8) shape array, what is the index (x,y,z) of the 100th element? \n",
        "(**hint**: np.unravel_index)"
      ]
    },
    {
      "cell_type": "code",
      "execution_count": null,
      "metadata": {
        "colab": {
          "base_uri": "https://localhost:8080/"
        },
        "id": "THobQCu6ryW7",
        "outputId": "81270302-515f-4c2e-9b23-23750376e72f"
      },
      "outputs": [
        {
          "output_type": "execute_result",
          "data": {
            "text/plain": [
              "(1, 5, 4)"
            ]
          },
          "metadata": {},
          "execution_count": 25
        }
      ],
      "source": [
        "np.unravel_index(indices=100,shape=(6,7,8))"
      ]
    },
    {
      "cell_type": "markdown",
      "metadata": {
        "id": "1szzWNd5ryW7"
      },
      "source": [
        "#### 21. Create a checkerboard 8x8 matrix using the tile function (★☆☆) \n",
        "(**hint**: np.tile)"
      ]
    },
    {
      "cell_type": "code",
      "execution_count": null,
      "metadata": {
        "colab": {
          "base_uri": "https://localhost:8080/"
        },
        "id": "4xeCU1E0ryW7",
        "outputId": "fa473a9e-d17f-4b14-fad1-ef49a9e1a201"
      },
      "outputs": [
        {
          "output_type": "execute_result",
          "data": {
            "text/plain": [
              "array([[1, 0, 1, 0, 1, 0, 1, 0],\n",
              "       [0, 1, 0, 1, 0, 1, 0, 1],\n",
              "       [1, 0, 1, 0, 1, 0, 1, 0],\n",
              "       [0, 1, 0, 1, 0, 1, 0, 1],\n",
              "       [1, 0, 1, 0, 1, 0, 1, 0],\n",
              "       [0, 1, 0, 1, 0, 1, 0, 1],\n",
              "       [1, 0, 1, 0, 1, 0, 1, 0],\n",
              "       [0, 1, 0, 1, 0, 1, 0, 1]])"
            ]
          },
          "metadata": {},
          "execution_count": 26
        }
      ],
      "source": [
        "np.tile(np.array([[1,0],[0,1]]),(4,4))"
      ]
    },
    {
      "cell_type": "markdown",
      "metadata": {
        "id": "O-2WcgXJryW7"
      },
      "source": [
        "#### 22. Normalize a 5x5 random matrix (★☆☆) \n",
        "(**hint**: (x - min) / (max - min))"
      ]
    },
    {
      "cell_type": "code",
      "execution_count": null,
      "metadata": {
        "colab": {
          "base_uri": "https://localhost:8080/"
        },
        "id": "c47LZPIwryW8",
        "outputId": "c8d63170-7530-45e0-a5d0-20f71975e36e"
      },
      "outputs": [
        {
          "output_type": "execute_result",
          "data": {
            "text/plain": [
              "array([[0.41107944, 0.90571133, 0.72768013, 0.95019037, 0.60620101],\n",
              "       [0.24585925, 0.40632282, 0.62390821, 0.68572436, 0.69510416],\n",
              "       [0.28816288, 0.30886226, 0.53057913, 0.52845722, 0.90970705],\n",
              "       [0.31613936, 0.10160352, 1.        , 0.91062702, 0.64876911],\n",
              "       [0.43472348, 0.34743735, 0.53397366, 0.15368453, 0.        ]])"
            ]
          },
          "metadata": {},
          "execution_count": 27
        }
      ],
      "source": [
        "x = np.random.random((5,5))\n",
        "((x - x.min())/(x.max() - x.min()) )"
      ]
    },
    {
      "cell_type": "markdown",
      "metadata": {
        "id": "a94vWi19ryW8"
      },
      "source": [
        "#### 23. Create a custom dtype that describes a color as four unsigned bytes (RGBA) (★☆☆) \n",
        "(**hint**: np.dtype)"
      ]
    },
    {
      "cell_type": "code",
      "execution_count": null,
      "metadata": {
        "colab": {
          "base_uri": "https://localhost:8080/"
        },
        "collapsed": true,
        "id": "6t1onfTyryW8",
        "outputId": "538ec2d9-a9eb-4e85-a6a3-5fc2429217d8"
      },
      "outputs": [
        {
          "output_type": "stream",
          "name": "stdout",
          "text": [
            "111\n"
          ]
        },
        {
          "output_type": "execute_result",
          "data": {
            "text/plain": [
              "numpy.ndarray"
            ]
          },
          "metadata": {},
          "execution_count": 28
        }
      ],
      "source": [
        "RGBA = np.dtype([('Red',np.uint8),('Green',np.uint8),('Blue',np.uint8),('Alpha',np.uint8)])\n",
        "color = np.array((111,140,420,300),dtype = RGBA)\n",
        "print(color['Red'])\n",
        "type(color)"
      ]
    },
    {
      "cell_type": "markdown",
      "metadata": {
        "id": "_f2FNayHryW8"
      },
      "source": [
        "#### 24. Multiply a 5x3 matrix by a 3x2 matrix (real matrix product) (★☆☆) \n",
        "(**hint**: np.dot | @)"
      ]
    },
    {
      "cell_type": "code",
      "execution_count": null,
      "metadata": {
        "colab": {
          "base_uri": "https://localhost:8080/"
        },
        "id": "VaLs7hZ-ryW8",
        "outputId": "45a776ab-79ba-422b-ab8a-08d768faf8db"
      },
      "outputs": [
        {
          "output_type": "execute_result",
          "data": {
            "text/plain": [
              "array([[3., 3.],\n",
              "       [3., 3.],\n",
              "       [3., 3.],\n",
              "       [3., 3.],\n",
              "       [3., 3.]])"
            ]
          },
          "metadata": {},
          "execution_count": 29
        }
      ],
      "source": [
        "np.dot(np.ones((5,3)),np.ones((3,2)))"
      ]
    },
    {
      "cell_type": "markdown",
      "metadata": {
        "id": "6jXyH7zrryW8"
      },
      "source": [
        "#### 25. Given a 1D array, negate all elements which are between 3 and 8, in place. (★☆☆) \n",
        "(**hint**: >, <=)"
      ]
    },
    {
      "cell_type": "code",
      "execution_count": null,
      "metadata": {
        "colab": {
          "base_uri": "https://localhost:8080/"
        },
        "id": "DefiDCZ4ryW9",
        "outputId": "6561cf18-f41e-4552-eabc-3508166831d0"
      },
      "outputs": [
        {
          "output_type": "stream",
          "name": "stdout",
          "text": [
            "[ 0  1  2  3  4  5  6  7  8  9 10]\n",
            "[ 0  1  2  3 -4 -5 -6 -7  8  9 10]\n"
          ]
        }
      ],
      "source": [
        "z=np.arange(11)\n",
        "print(z)\n",
        "z[(3<z)&(z<8)] *= -1\n",
        "print(z)"
      ]
    },
    {
      "cell_type": "markdown",
      "metadata": {
        "id": "yY-rkMKzryW9"
      },
      "source": [
        "#### 26. What is the output of the following script? (★☆☆) \n",
        "(**hint**: np.sum)"
      ]
    },
    {
      "cell_type": "markdown",
      "metadata": {
        "id": "6aqFo8EEryW9"
      },
      "source": [
        "```python\n",
        "# Author: Jake VanderPlas\n",
        "\n",
        "print(sum(range(5),-1))\n",
        "from numpy import *\n",
        "print(sum(range(5),-1))\n",
        "```"
      ]
    },
    {
      "cell_type": "code",
      "execution_count": null,
      "metadata": {
        "id": "VXIRk_UsryW9",
        "colab": {
          "base_uri": "https://localhost:8080/"
        },
        "outputId": "ca206f56-e711-4d56-fd89-d11860eb0cca"
      },
      "outputs": [
        {
          "output_type": "stream",
          "name": "stdout",
          "text": [
            "9\n",
            "10\n"
          ]
        }
      ],
      "source": [
        "print(sum(range(5),-1))\n",
        "\n",
        "print(np.sum(range(5),-1))"
      ]
    },
    {
      "cell_type": "markdown",
      "metadata": {
        "id": "xLnLm8reryW-"
      },
      "source": [
        "#### 27. Consider an integer vector Z, which of these expressions are legal? (★☆☆)"
      ]
    },
    {
      "cell_type": "markdown",
      "metadata": {
        "id": "ColCvBAeryW-"
      },
      "source": [
        "```python\n",
        "Z**Z\n",
        "2 << Z >> 2\n",
        "Z <- Z\n",
        "1j*Z\n",
        "Z/1/1\n",
        "Z<Z>Z\n",
        "```"
      ]
    },
    {
      "cell_type": "code",
      "execution_count": null,
      "metadata": {
        "id": "8WX5jY34ryW-",
        "colab": {
          "base_uri": "https://localhost:8080/"
        },
        "outputId": "137c9551-b4d0-4124-94a2-51a2dbf7034a"
      },
      "outputs": [
        {
          "output_type": "stream",
          "name": "stdout",
          "text": [
            "[1 1 4]\n",
            "[0 1 2]\n",
            "[False False False]\n",
            "[0.+0.j 0.+1.j 0.+2.j]\n",
            "[0. 1. 2.]\n"
          ]
        }
      ],
      "source": [
        "Z=np.arange(3)\n",
        "print(Z**Z)\n",
        "print(2 << Z >> 2)\n",
        "print(Z <- Z)\n",
        "print(1j*Z)\n",
        "print(Z/1/1)\n",
        "# print((Z<Z>Z))"
      ]
    },
    {
      "cell_type": "markdown",
      "metadata": {
        "id": "eF4gbbQdryW-"
      },
      "source": [
        "#### 28. What are the result of the following expressions?"
      ]
    },
    {
      "cell_type": "markdown",
      "metadata": {
        "id": "04qpQkkBryW-"
      },
      "source": [
        "```python\n",
        "np.array(0) / np.array(0)\n",
        "np.array(0) // np.array(0)\n",
        "np.array([np.nan]).astype(int).astype(float)\n",
        "```"
      ]
    },
    {
      "cell_type": "code",
      "execution_count": null,
      "metadata": {
        "id": "b0Cuo4NYryW_",
        "colab": {
          "base_uri": "https://localhost:8080/"
        },
        "outputId": "bf5eedbe-8315-45e8-e60d-1e2c4657c8cd"
      },
      "outputs": [
        {
          "output_type": "stream",
          "name": "stdout",
          "text": [
            "nan\n",
            "0\n",
            "[-9.22337204e+18]\n"
          ]
        },
        {
          "output_type": "stream",
          "name": "stderr",
          "text": [
            "/usr/local/lib/python3.7/dist-packages/ipykernel_launcher.py:1: RuntimeWarning: invalid value encountered in true_divide\n",
            "  \"\"\"Entry point for launching an IPython kernel.\n",
            "/usr/local/lib/python3.7/dist-packages/ipykernel_launcher.py:2: RuntimeWarning: divide by zero encountered in floor_divide\n",
            "  \n"
          ]
        }
      ],
      "source": [
        "print(np.array(0) / np.array(0))\n",
        "print(np.array(0) // np.array(0))\n",
        "print(np.array([np.nan]).astype(int).astype(float))"
      ]
    },
    {
      "cell_type": "markdown",
      "metadata": {
        "id": "Ue-zKyc6ryW_"
      },
      "source": [
        "#### 29. How to round away from zero a float array ? (★☆☆) \n",
        "(**hint**: np.uniform, np.copysign, np.ceil, np.abs)"
      ]
    },
    {
      "cell_type": "code",
      "execution_count": null,
      "metadata": {
        "id": "Kfeo10KsryW_",
        "colab": {
          "base_uri": "https://localhost:8080/"
        },
        "outputId": "ff1c83ad-31bf-4bab-e4e6-c92712e5ac15"
      },
      "outputs": [
        {
          "output_type": "execute_result",
          "data": {
            "text/plain": [
              "array([-0.,  1.,  1., -0.,  1.])"
            ]
          },
          "metadata": {},
          "execution_count": 34
        }
      ],
      "source": [
        "s = np.random.uniform(-1,1,5)\n",
        "# print(np.copysign(s,+1))\n",
        "np.ceil(s)\n",
        "# np.abs(s)"
      ]
    },
    {
      "cell_type": "markdown",
      "metadata": {
        "id": "ZI_WsVqcryW_"
      },
      "source": [
        "#### 30. How to find common values between two arrays? (★☆☆) \n",
        "(**hint**: np.intersect1d)"
      ]
    },
    {
      "cell_type": "code",
      "execution_count": null,
      "metadata": {
        "id": "t3ftrtWIryW_",
        "colab": {
          "base_uri": "https://localhost:8080/"
        },
        "outputId": "35ceaa60-c464-4db9-e532-e67725bac529"
      },
      "outputs": [
        {
          "output_type": "stream",
          "name": "stdout",
          "text": [
            "[4 5]\n"
          ]
        }
      ],
      "source": [
        "a = np.arange(1,6)\n",
        "b = np.arange(4,10)\n",
        "print(np.intersect1d(a,b))"
      ]
    },
    {
      "cell_type": "markdown",
      "metadata": {
        "id": "a3An4tmjryW_"
      },
      "source": [
        "31. How to ignore all numpy warnings (not recommended)? (★☆☆) \n",
        "(**hint**: np.seterr, np.errstate)"
      ]
    },
    {
      "cell_type": "code",
      "execution_count": null,
      "metadata": {
        "colab": {
          "base_uri": "https://localhost:8080/"
        },
        "id": "D46dm6gjryXA",
        "outputId": "fd02f821-5858-47f9-b6f6-f6b0612a7d6f"
      },
      "outputs": [
        {
          "output_type": "stream",
          "name": "stdout",
          "text": [
            "{'divide': 'warn', 'over': 'warn', 'under': 'ignore', 'invalid': 'warn'}\n",
            "<numpy.errstate object at 0x7f103dc1e310>\n"
          ]
        }
      ],
      "source": [
        "print(np.seterr())\n",
        "print(np.errstate())"
      ]
    },
    {
      "cell_type": "markdown",
      "metadata": {
        "id": "XutmgvzsryXA"
      },
      "source": [
        "#### 32. Is the following expressions true? (★☆☆) \n",
        "(**hint**: imaginary number)"
      ]
    },
    {
      "cell_type": "markdown",
      "metadata": {
        "id": "2n2YOyiTryXA"
      },
      "source": [
        "```python\n",
        "np.sqrt(-1) == np.emath.sqrt(-1)\n",
        "```"
      ]
    },
    {
      "cell_type": "code",
      "execution_count": null,
      "metadata": {
        "colab": {
          "base_uri": "https://localhost:8080/"
        },
        "id": "bXH2aEq-ryXA",
        "outputId": "6e879850-fb46-47be-cf30-dd5639137a53"
      },
      "outputs": [
        {
          "output_type": "stream",
          "name": "stderr",
          "text": [
            "/usr/local/lib/python3.7/dist-packages/ipykernel_launcher.py:1: RuntimeWarning: invalid value encountered in sqrt\n",
            "  \"\"\"Entry point for launching an IPython kernel.\n"
          ]
        },
        {
          "output_type": "execute_result",
          "data": {
            "text/plain": [
              "False"
            ]
          },
          "metadata": {},
          "execution_count": 37
        }
      ],
      "source": [
        "np.sqrt(-1) == np.emath.sqrt(-1)"
      ]
    },
    {
      "cell_type": "markdown",
      "metadata": {
        "id": "qY913efNryXA"
      },
      "source": [
        "#### 33. How to get the dates of yesterday, today and tomorrow? (★☆☆) \n",
        "(**hint**: np.datetime64, np.timedelta64)"
      ]
    },
    {
      "cell_type": "code",
      "execution_count": null,
      "metadata": {
        "colab": {
          "base_uri": "https://localhost:8080/"
        },
        "id": "buLBkbPCryXA",
        "outputId": "683a0967-0412-4e16-ec45-3c55263263fb"
      },
      "outputs": [
        {
          "output_type": "stream",
          "name": "stdout",
          "text": [
            "Yestraday:  2022-05-10\n",
            "Today:  2022-05-11\n",
            "Tomorrow:  2022-05-12\n"
          ]
        }
      ],
      "source": [
        "ystrd = np.datetime64('today', 'D') - np.timedelta64(1, 'D')\n",
        "print(\"Yestraday: \",ystrd)\n",
        "tdy = np.datetime64('today', 'D')\n",
        "print(\"Today: \",tdy)\n",
        "tmrw  = np.datetime64('today', 'D') + np.timedelta64(1, 'D')\n",
        "print(\"Tomorrow: \",tmrw)"
      ]
    },
    {
      "cell_type": "markdown",
      "metadata": {
        "id": "cgicErqHryXB"
      },
      "source": [
        "#### 34. How to get all the dates corresponding to the month of July 2016? (★★☆) \n",
        "(**hint**: np.arange(dtype=datetime64\\['D'\\]))"
      ]
    },
    {
      "cell_type": "code",
      "execution_count": null,
      "metadata": {
        "id": "18wG6LgUryXB",
        "colab": {
          "base_uri": "https://localhost:8080/"
        },
        "outputId": "183899ef-cde4-41a9-9934-e317e73c697e"
      },
      "outputs": [
        {
          "output_type": "execute_result",
          "data": {
            "text/plain": [
              "array(['2016-07-01', '2016-07-02', '2016-07-03', '2016-07-04',\n",
              "       '2016-07-05', '2016-07-06', '2016-07-07', '2016-07-08',\n",
              "       '2016-07-09', '2016-07-10', '2016-07-11', '2016-07-12',\n",
              "       '2016-07-13', '2016-07-14', '2016-07-15', '2016-07-16',\n",
              "       '2016-07-17', '2016-07-18', '2016-07-19', '2016-07-20',\n",
              "       '2016-07-21', '2016-07-22', '2016-07-23', '2016-07-24',\n",
              "       '2016-07-25', '2016-07-26', '2016-07-27', '2016-07-28',\n",
              "       '2016-07-29', '2016-07-30', '2016-07-31'], dtype='datetime64[D]')"
            ]
          },
          "metadata": {},
          "execution_count": 39
        }
      ],
      "source": [
        "np.arange('2016-07','2016-08',dtype='datetime64[D]')"
      ]
    },
    {
      "cell_type": "markdown",
      "metadata": {
        "id": "obqrpQxyryXB"
      },
      "source": [
        "#### 35. How to compute ((A+B)\\*(-A/2)) in place (without copy)? (★★☆) \n",
        "(**hint**: np.add(out=), np.negative(out=), np.multiply(out=), np.divide(out=))"
      ]
    },
    {
      "cell_type": "code",
      "execution_count": null,
      "metadata": {
        "id": "ff3ZmvFKryXB",
        "colab": {
          "base_uri": "https://localhost:8080/"
        },
        "outputId": "2d8ba1dc-eedd-4c72-c366-1b1d54128578"
      },
      "outputs": [
        {
          "output_type": "execute_result",
          "data": {
            "text/plain": [
              "array([-1.5, -1.5, -1.5])"
            ]
          },
          "metadata": {},
          "execution_count": 40
        }
      ],
      "source": [
        "A = np.ones(3)*1\n",
        "B = np.ones(3)*2\n",
        "np.multiply((np.add(A,B)) , (np.divide((np.negative(A)),2)))"
      ]
    },
    {
      "cell_type": "markdown",
      "metadata": {
        "id": "bl5Pqs1fryXB"
      },
      "source": [
        "#### 36. Extract the integer part of a random array using 5 different methods (★★☆) \n",
        "(**hint**: %, np.floor, np.ceil, astype, np.trunc)"
      ]
    },
    {
      "cell_type": "code",
      "execution_count": null,
      "metadata": {
        "id": "_WbxdcmhryXC",
        "colab": {
          "base_uri": "https://localhost:8080/"
        },
        "outputId": "357b5534-6a5d-4f9a-ff60-6eace0297554"
      },
      "outputs": [
        {
          "output_type": "stream",
          "name": "stdout",
          "text": [
            "[1.         1.11111111 1.22222222 1.33333333 1.44444444 1.55555556\n",
            " 1.66666667 1.77777778 1.88888889 2.        ]\n",
            "[1. 1. 1. 1. 1. 1. 1. 1. 1. 2.]\n",
            "[1. 1. 1. 1. 1. 1. 1. 1. 1. 2.]\n",
            "[1. 2. 2. 2. 2. 2. 2. 2. 2. 2.]\n",
            "[1 1 1 1 1 1 1 1 1 2]\n",
            "[1. 1. 1. 1. 1. 1. 1. 1. 1. 2.]\n"
          ]
        }
      ],
      "source": [
        "a = np.linspace(1,2,10)\n",
        "print(a)\n",
        "print(a - a%1)\n",
        "print(np.floor(a))\n",
        "print(np.ceil(a))\n",
        "print(a.astype(int))\n",
        "print(np.trunc(a))"
      ]
    },
    {
      "cell_type": "markdown",
      "metadata": {
        "id": "n60O-rHdryXC"
      },
      "source": [
        "#### 37. Create a 5x5 matrix with row values ranging from 0 to 4 (★★☆) \n",
        "(**hint**: np.arange)"
      ]
    },
    {
      "cell_type": "code",
      "execution_count": null,
      "metadata": {
        "id": "pQuiGt1MryXC",
        "colab": {
          "base_uri": "https://localhost:8080/"
        },
        "outputId": "b132b16c-947d-4378-fef0-24fb4e2fe7b6"
      },
      "outputs": [
        {
          "output_type": "stream",
          "name": "stdout",
          "text": [
            "[[0 1 2 3 4]\n",
            " [0 1 2 3 4]\n",
            " [0 1 2 3 4]\n",
            " [0 1 2 3 4]\n",
            " [0 1 2 3 4]]\n"
          ]
        }
      ],
      "source": [
        "print(np.tile(np.arange(0,5),(5,1)))"
      ]
    },
    {
      "cell_type": "markdown",
      "metadata": {
        "id": "yerbPADlryXC"
      },
      "source": [
        "#### 38. Consider a generator function that generates 10 integers and use it to build an array (★☆☆) \n",
        "(**hint**: np.fromiter)"
      ]
    },
    {
      "cell_type": "code",
      "execution_count": null,
      "metadata": {
        "id": "d0b_6CQeryXC",
        "colab": {
          "base_uri": "https://localhost:8080/"
        },
        "outputId": "b4a85cbb-107b-4a9e-91f7-04e6d6aee685"
      },
      "outputs": [
        {
          "output_type": "execute_result",
          "data": {
            "text/plain": [
              "array([0, 1, 2, 3, 4, 5, 6, 7, 8, 9])"
            ]
          },
          "metadata": {},
          "execution_count": 43
        }
      ],
      "source": [
        "def generator():\n",
        "  for i in range(10):\n",
        "        yield i\n",
        "np.fromiter(generator(),dtype=int)"
      ]
    },
    {
      "cell_type": "markdown",
      "metadata": {
        "id": "YpXuts_rryXC"
      },
      "source": [
        "#### 39. Create a vector of size 10 with values ranging from 0 to 1, both excluded (★★☆) \n",
        "(**hint**: np.linspace)"
      ]
    },
    {
      "cell_type": "code",
      "execution_count": null,
      "metadata": {
        "id": "yXKZ5PVzryXD",
        "colab": {
          "base_uri": "https://localhost:8080/"
        },
        "outputId": "58eec185-c692-491a-b96e-e53187e8c50c"
      },
      "outputs": [
        {
          "output_type": "execute_result",
          "data": {
            "text/plain": [
              "array([0.09090909, 0.18181818, 0.27272727, 0.36363636, 0.45454545,\n",
              "       0.54545455, 0.63636364, 0.72727273, 0.81818182, 0.90909091])"
            ]
          },
          "metadata": {},
          "execution_count": 44
        }
      ],
      "source": [
        "np.linspace(0,1,12)[1:-1]"
      ]
    },
    {
      "cell_type": "markdown",
      "metadata": {
        "id": "fGTkab1VryXD"
      },
      "source": [
        "#### 40. Create a random vector of size 10 and sort it (★★☆) \n",
        "(**hint**: sort)"
      ]
    },
    {
      "cell_type": "code",
      "execution_count": null,
      "metadata": {
        "id": "9hyVKLiQryXD",
        "colab": {
          "base_uri": "https://localhost:8080/"
        },
        "outputId": "712f0d9b-da17-414e-9f8d-6f728f0058c9"
      },
      "outputs": [
        {
          "output_type": "execute_result",
          "data": {
            "text/plain": [
              "array([11, 19, 20, 25, 28, 34, 40, 44, 44, 48])"
            ]
          },
          "metadata": {},
          "execution_count": 45
        }
      ],
      "source": [
        "a = np.random.randint(10,50,size=10)\n",
        "a.sort()\n",
        "a"
      ]
    },
    {
      "cell_type": "markdown",
      "metadata": {
        "id": "ICZrFOCDryXD"
      },
      "source": [
        "#### 41. How to sum a small array faster than np.sum? (★★☆) \n",
        "(**hint**: np.add.reduce)"
      ]
    },
    {
      "cell_type": "code",
      "execution_count": null,
      "metadata": {
        "id": "G0esFp1RryXD",
        "colab": {
          "base_uri": "https://localhost:8080/"
        },
        "outputId": "a754e69c-7514-40e7-c749-87a93f99d39a"
      },
      "outputs": [
        {
          "output_type": "execute_result",
          "data": {
            "text/plain": [
              "array([[ 4,  6],\n",
              "       [ 8, 10]])"
            ]
          },
          "metadata": {},
          "execution_count": 46
        }
      ],
      "source": [
        "np.add.reduce(np.arange(8).reshape((2,2,2)),0)"
      ]
    },
    {
      "cell_type": "markdown",
      "metadata": {
        "id": "CKdMm1BZryXD"
      },
      "source": [
        "#### 42. Consider two random array A and B, check if they are equal (★★☆) \n",
        "(**hint**: np.allclose, np.array\\_equal)"
      ]
    },
    {
      "cell_type": "code",
      "execution_count": null,
      "metadata": {
        "id": "-2rmWc2RryXE",
        "colab": {
          "base_uri": "https://localhost:8080/"
        },
        "outputId": "4f62c2b2-1bfd-4b99-da09-5d05bc19f9c5"
      },
      "outputs": [
        {
          "output_type": "execute_result",
          "data": {
            "text/plain": [
              "False"
            ]
          },
          "metadata": {},
          "execution_count": 47
        }
      ],
      "source": [
        "A=np.random.randint(1,10,5)\n",
        "B=np.random.randint(1,10,5)\n",
        "np.array_equal(A,B)"
      ]
    },
    {
      "cell_type": "markdown",
      "metadata": {
        "id": "QplWApw9ryXE"
      },
      "source": [
        "#### 43. Make an array immutable (read-only) (★★☆) \n",
        "(**hint**: flags.writeable)"
      ]
    },
    {
      "cell_type": "code",
      "execution_count": null,
      "metadata": {
        "id": "GpMRhSZHryXE",
        "colab": {
          "base_uri": "https://localhost:8080/",
          "height": 236
        },
        "outputId": "108c4fde-0fc9-40f6-ca67-0af06ca14f38"
      },
      "outputs": [
        {
          "output_type": "stream",
          "name": "stdout",
          "text": [
            "[0 1 2 3 4 5 6 7 8 9]\n"
          ]
        },
        {
          "output_type": "error",
          "ename": "ValueError",
          "evalue": "ignored",
          "traceback": [
            "\u001b[0;31m---------------------------------------------------------------------------\u001b[0m",
            "\u001b[0;31mValueError\u001b[0m                                Traceback (most recent call last)",
            "\u001b[0;32m<ipython-input-48-28e9513471f5>\u001b[0m in \u001b[0;36m<module>\u001b[0;34m()\u001b[0m\n\u001b[1;32m      2\u001b[0m \u001b[0mprint\u001b[0m\u001b[0;34m(\u001b[0m\u001b[0mz\u001b[0m\u001b[0;34m)\u001b[0m\u001b[0;34m\u001b[0m\u001b[0;34m\u001b[0m\u001b[0m\n\u001b[1;32m      3\u001b[0m \u001b[0mz\u001b[0m\u001b[0;34m.\u001b[0m\u001b[0mflags\u001b[0m\u001b[0;34m.\u001b[0m\u001b[0mwriteable\u001b[0m\u001b[0;34m=\u001b[0m\u001b[0;32mFalse\u001b[0m\u001b[0;34m\u001b[0m\u001b[0;34m\u001b[0m\u001b[0m\n\u001b[0;32m----> 4\u001b[0;31m \u001b[0mz\u001b[0m\u001b[0;34m[\u001b[0m\u001b[0;36m2\u001b[0m\u001b[0;34m]\u001b[0m\u001b[0;34m=\u001b[0m\u001b[0;36m100\u001b[0m\u001b[0;34m\u001b[0m\u001b[0;34m\u001b[0m\u001b[0m\n\u001b[0m\u001b[1;32m      5\u001b[0m \u001b[0mz\u001b[0m\u001b[0;34m\u001b[0m\u001b[0;34m\u001b[0m\u001b[0m\n",
            "\u001b[0;31mValueError\u001b[0m: assignment destination is read-only"
          ]
        }
      ],
      "source": [
        "z=np.arange(0,10)\n",
        "print(z)\n",
        "z.flags.writeable=False\n",
        "z[2]=100\n",
        "z"
      ]
    },
    {
      "cell_type": "markdown",
      "metadata": {
        "id": "rMBcp5ShryXE"
      },
      "source": [
        "#### 44. Consider a random 10x2 matrix representing cartesian coordinates, convert them to polar coordinates (★★☆) \n",
        "(**hint**: np.sqrt, np.arctan2)"
      ]
    },
    {
      "cell_type": "code",
      "execution_count": null,
      "metadata": {
        "id": "DN_PIBSNryXE",
        "colab": {
          "base_uri": "https://localhost:8080/"
        },
        "outputId": "68a2806d-c316-4912-937b-ba8a77f8bed7"
      },
      "outputs": [
        {
          "output_type": "stream",
          "name": "stdout",
          "text": [
            "[1.01620198 0.20287854 0.526603   0.78032692 0.40718461 0.90151324\n",
            " 0.64588273 0.46204642 0.77706469 0.56830774]\n",
            "[1.33318192 0.32070305 1.39223466 0.30512939 0.69977418 0.6225431\n",
            " 0.68897223 1.42101628 1.40672536 1.0659734 ]\n"
          ]
        }
      ],
      "source": [
        "a=np.random.random((10,2))\n",
        "x,y=a[:,0], a[:,1]      #To convert from Cartesian Coordinates (x,y) to Polar Coordinates (r,θ):\n",
        "rad=np.sqrt(x**2+y**2)  #r = √ ( x2 + y2 )\n",
        "deg=np.arctan2(y,x)     #θ = tan-1 ( y / x )\n",
        "print(rad)\n",
        "print(deg)"
      ]
    },
    {
      "cell_type": "markdown",
      "metadata": {
        "id": "Zd-XZ-HVryXF"
      },
      "source": [
        "#### 45. Create random vector of size 10 and replace the maximum value by 0 (★★☆) \n",
        "(**hint**: argmax)"
      ]
    },
    {
      "cell_type": "code",
      "execution_count": null,
      "metadata": {
        "id": "HVh3oY_cryXF",
        "colab": {
          "base_uri": "https://localhost:8080/"
        },
        "outputId": "0ad514b8-27f3-475b-b701-dc6842d3a90b"
      },
      "outputs": [
        {
          "output_type": "stream",
          "name": "stdout",
          "text": [
            "[88 17 15 11 91 51 29 15 44 58]\n"
          ]
        },
        {
          "output_type": "execute_result",
          "data": {
            "text/plain": [
              "array([88, 17, 15, 11,  0, 51, 29, 15, 44, 58])"
            ]
          },
          "metadata": {},
          "execution_count": 50
        }
      ],
      "source": [
        "m=np.random.randint(0,100,10)\n",
        "print(m)\n",
        "m[m.argmax()]=0\n",
        "m"
      ]
    },
    {
      "cell_type": "markdown",
      "metadata": {
        "id": "EAUi16wUryXF"
      },
      "source": [
        "#### 46. Create a structured array with `x` and `y` coordinates covering the \\[0,1\\]x\\[0,1\\] area (★★☆) \n",
        "(**hint**: np.meshgrid)"
      ]
    },
    {
      "cell_type": "code",
      "execution_count": null,
      "metadata": {
        "id": "sR0G_A3XryXF",
        "colab": {
          "base_uri": "https://localhost:8080/"
        },
        "outputId": "594eec26-3df7-493f-b322-7064d48f3d4b"
      },
      "outputs": [
        {
          "output_type": "stream",
          "name": "stdout",
          "text": [
            "[[(0., 1.) (0., 1.) (0., 1.) (0., 1.) (0., 1.)]\n",
            " [(0., 1.) (0., 1.) (0., 1.) (0., 1.) (0., 1.)]\n",
            " [(0., 1.) (0., 1.) (0., 1.) (0., 1.) (0., 1.)]\n",
            " [(0., 1.) (0., 1.) (0., 1.) (0., 1.) (0., 1.)]\n",
            " [(0., 1.) (0., 1.) (0., 1.) (0., 1.) (0., 1.)]]\n"
          ]
        }
      ],
      "source": [
        "Z['x'],Z['y']=np.meshgrid(0,1)\n",
        "print(Z)"
      ]
    },
    {
      "cell_type": "markdown",
      "metadata": {
        "id": "I4NiGPntryXF"
      },
      "source": [
        "####  47. Given two arrays, X and Y, construct the Cauchy matrix C (Cij =1/(xi - yj)) \n",
        "(**hint**: np.subtract.outer)"
      ]
    },
    {
      "cell_type": "code",
      "execution_count": null,
      "metadata": {
        "id": "tMJUObKdryXF",
        "colab": {
          "base_uri": "https://localhost:8080/"
        },
        "outputId": "5a68e251-d89a-4896-cda4-2ecf0646f85e"
      },
      "outputs": [
        {
          "output_type": "stream",
          "name": "stdout",
          "text": [
            "[[1 2]\n",
            " [3 4]]\n",
            "[[5 6]\n",
            " [7 8]]\n"
          ]
        },
        {
          "output_type": "execute_result",
          "data": {
            "text/plain": [
              "array([[[[-0.25      , -0.2       ],\n",
              "         [-0.16666667, -0.14285714]],\n",
              "\n",
              "        [[-0.33333333, -0.25      ],\n",
              "         [-0.2       , -0.16666667]]],\n",
              "\n",
              "\n",
              "       [[[-0.5       , -0.33333333],\n",
              "         [-0.25      , -0.2       ]],\n",
              "\n",
              "        [[-1.        , -0.5       ],\n",
              "         [-0.33333333, -0.25      ]]]])"
            ]
          },
          "metadata": {},
          "execution_count": 60
        }
      ],
      "source": [
        "X = np.arange(1,5).reshape(2,2)\n",
        "print(X)\n",
        "Y = np.arange(5,9).reshape(2,2)\n",
        "print(Y)\n",
        "C = (1/(np.subtract.outer(X,Y)))\n",
        "C"
      ]
    },
    {
      "cell_type": "markdown",
      "metadata": {
        "id": "MnIJknniryXG"
      },
      "source": [
        "#### 48. Print the minimum and maximum representable value for each numpy scalar type (★★☆) \n",
        "(**hint**: np.iinfo, np.finfo, eps)"
      ]
    },
    {
      "cell_type": "code",
      "execution_count": null,
      "metadata": {
        "id": "EOQlOGQoryXG",
        "colab": {
          "base_uri": "https://localhost:8080/"
        },
        "outputId": "2a10aea1-b057-4ad1-a30a-af029670fd80"
      },
      "outputs": [
        {
          "output_type": "stream",
          "name": "stdout",
          "text": [
            "-128 127\n",
            "-32768 32767\n",
            "-2147483648 2147483647\n",
            "-9223372036854775808 9223372036854775807\n",
            "-65500.0 65500.0 0.000977\n",
            "-3.4028235e+38 3.4028235e+38 1.1920929e-07\n",
            "-1.7976931348623157e+308 1.7976931348623157e+308 2.220446049250313e-16\n",
            "-1.189731495357231765e+4932 1.189731495357231765e+4932 1.084202172485504434e-19\n"
          ]
        }
      ],
      "source": [
        "for itype in [np.int8,np.int16, np.int32, np.int64,]:\n",
        "   print(np.iinfo(itype).min, (np.iinfo(itype).max))\n",
        "for ftype in [np.float16,np.float32, np.float64, np.float128]:\n",
        "   print(np.finfo(ftype).min, (np.finfo(ftype).max), (np.finfo(ftype).eps))"
      ]
    },
    {
      "cell_type": "markdown",
      "metadata": {
        "id": "VBWl4BpFryXG"
      },
      "source": [
        "#### 49. How to print all the values of an array? (★★☆) \n",
        "(**hint**: np.set\\_printoptions)"
      ]
    },
    {
      "cell_type": "code",
      "execution_count": null,
      "metadata": {
        "id": "Upl2PRKsryXG",
        "colab": {
          "base_uri": "https://localhost:8080/"
        },
        "outputId": "fe8ef5c4-3519-4f15-8445-b5bd3d2396fd"
      },
      "outputs": [
        {
          "output_type": "execute_result",
          "data": {
            "text/plain": [
              "array([[[[-0.25, -0.2 ],\n",
              "         [-0.17, -0.14]],\n",
              "\n",
              "        [[-0.33, -0.25],\n",
              "         [-0.2 , -0.17]]],\n",
              "\n",
              "\n",
              "       [[[-0.5 , -0.33],\n",
              "         [-0.25, -0.2 ]],\n",
              "\n",
              "        [[-1.  , -0.5 ],\n",
              "         [-0.33, -0.25]]]])"
            ]
          },
          "metadata": {},
          "execution_count": 62
        }
      ],
      "source": [
        "np.set_printoptions(precision=2)\n",
        "C"
      ]
    },
    {
      "cell_type": "markdown",
      "metadata": {
        "id": "EJIyxVapryXG"
      },
      "source": [
        "#### 50. How to find the closest value (to a given scalar) in a vector? (★★☆) \n",
        "(**hint**: argmin)"
      ]
    },
    {
      "cell_type": "code",
      "execution_count": null,
      "metadata": {
        "id": "5nrBF0yHryXG",
        "colab": {
          "base_uri": "https://localhost:8080/"
        },
        "outputId": "e552adc2-d223-4e53-f6c1-c1d023259f8d"
      },
      "outputs": [
        {
          "output_type": "stream",
          "name": "stdout",
          "text": [
            "[ 1  2  3  4  5  6  7  8  9 10 11 12 13 14 15 16 17 18 19 20 21 22 23 24\n",
            " 25 26 27 28 29 30 31 32 33 34 35 36 37 38 39 40 41 42 43 44 45 46 47 48\n",
            " 49 50 51 52 53 54 55 56 57 58 59 60 61 62 63 64 65 66 67 68 69 70 71 72\n",
            " 73 74 75 76 77 78 79 80 81 82 83 84 85 86 87 88 89 90 91 92 93 94 95 96\n",
            " 97 98 99]\n",
            "89.7324560534457\n",
            "89\n",
            "90\n"
          ]
        }
      ],
      "source": [
        "c=np.arange(1,100)\n",
        "print(c)\n",
        "d=np.random.uniform(0,100)\n",
        "print(d)\n",
        "index=(np.abs(c-d)).argmin()\n",
        "print(index)\n",
        "print(c[index])"
      ]
    },
    {
      "cell_type": "markdown",
      "metadata": {
        "id": "3uv3TWkrryXH"
      },
      "source": [
        "#### 51. Create a structured array representing a position (x,y) and a color (r,g,b) (★★☆) \n",
        "(**hint**: dtype)"
      ]
    },
    {
      "cell_type": "code",
      "execution_count": null,
      "metadata": {
        "id": "1zZcXzxkryXH",
        "colab": {
          "base_uri": "https://localhost:8080/"
        },
        "outputId": "1d7344b5-6f85-417f-a750-884f02e7e6a3"
      },
      "outputs": [
        {
          "output_type": "stream",
          "name": "stderr",
          "text": [
            "/usr/local/lib/python3.7/dist-packages/numpy/core/numeric.py:204: FutureWarning: Passing (type, 1) or '1type' as a synonym of type is deprecated; in a future version of numpy, it will be understood as (type, (1,)) / '(1,)type'.\n",
            "  a = empty(shape, dtype, order)\n"
          ]
        },
        {
          "output_type": "execute_result",
          "data": {
            "text/plain": [
              "array([((1., 1.), (1., 1., 1.)), ((1., 1.), (1., 1., 1.)),\n",
              "       ((1., 1.), (1., 1., 1.)), ((1., 1.), (1., 1., 1.)),\n",
              "       ((1., 1.), (1., 1., 1.)), ((1., 1.), (1., 1., 1.)),\n",
              "       ((1., 1.), (1., 1., 1.)), ((1., 1.), (1., 1., 1.)),\n",
              "       ((1., 1.), (1., 1., 1.)), ((1., 1.), (1., 1., 1.))],\n",
              "      dtype=[('position', [('x', '<f8'), ('y', '<f8')]), ('color', [('r', '<f8'), ('g', '<f8'), ('b', '<f8')])])"
            ]
          },
          "metadata": {},
          "execution_count": 64
        }
      ],
      "source": [
        "np.ones(10,[('position',[('x',float,1),\n",
        "                            ('y',float,1)]),\n",
        "               ('color',[('r',float,1),\n",
        "                         ('g',float,1),\n",
        "                         ('b',float,1)])])"
      ]
    },
    {
      "cell_type": "markdown",
      "metadata": {
        "id": "krvQ-SBWryXH"
      },
      "source": [
        "#### 52. Consider a random vector with shape (100,2) representing coordinates, find point by point distances (★★☆) \n",
        "(**hint**: np.atleast\\_2d, T, np.sqrt)"
      ]
    },
    {
      "cell_type": "code",
      "execution_count": null,
      "metadata": {
        "id": "t6LYXKsZryXH",
        "colab": {
          "base_uri": "https://localhost:8080/"
        },
        "outputId": "a2b50405-d9b0-49bb-b6d4-23f7fc5007c7"
      },
      "outputs": [
        {
          "output_type": "stream",
          "name": "stdout",
          "text": [
            "[[0.   0.67 0.47 ... 0.82 0.24 0.53]\n",
            " [0.67 0.   0.27 ... 0.42 0.59 0.85]\n",
            " [0.47 0.27 0.   ... 0.37 0.34 0.58]\n",
            " ...\n",
            " [0.82 0.42 0.37 ... 0.   0.63 0.72]\n",
            " [0.24 0.59 0.34 ... 0.63 0.   0.34]\n",
            " [0.53 0.85 0.58 ... 0.72 0.34 0.  ]]\n"
          ]
        }
      ],
      "source": [
        "rv=np.random.random((100,2))\n",
        "x,y=np.atleast_2d(rv[:,0],rv[:,1])\n",
        "d=np.sqrt((x-x.T)**2 +(y-y.T)**2)\n",
        "print(d)"
      ]
    },
    {
      "cell_type": "markdown",
      "metadata": {
        "id": "s1hyj27MryXH"
      },
      "source": [
        "#### 53. How to convert a float (32 bits) array into an integer (32 bits) in place? \n",
        "(**hint**: astype(copy=False))"
      ]
    },
    {
      "cell_type": "code",
      "execution_count": null,
      "metadata": {
        "id": "XkgYOoOxryXI",
        "colab": {
          "base_uri": "https://localhost:8080/"
        },
        "outputId": "e9c8832d-6d3f-422d-9506-0dd121483090"
      },
      "outputs": [
        {
          "output_type": "stream",
          "name": "stdout",
          "text": [
            "[0. 1. 2. 3. 4.]\n",
            "[0 1 2 3 4]\n"
          ]
        }
      ],
      "source": [
        "a=np.arange(5, dtype=np.float32)\n",
        "b=a.astype(np.int32,copy=False)\n",
        "print(a)\n",
        "print(b)"
      ]
    },
    {
      "cell_type": "markdown",
      "metadata": {
        "id": "XQoewqxIryXI"
      },
      "source": [
        "#### 54. How to read the following file? (★★☆) \n",
        "(**hint**: np.genfromtxt)"
      ]
    },
    {
      "cell_type": "markdown",
      "metadata": {
        "id": "-M2-K0I8ryXI"
      },
      "source": [
        "```\n",
        "1, 2, 3, 4, 5\n",
        "6,  ,  , 7, 8\n",
        " ,  , 9,10,11\n",
        "```"
      ]
    },
    {
      "cell_type": "code",
      "execution_count": null,
      "metadata": {
        "id": "t-uJ9-TnryXI",
        "colab": {
          "base_uri": "https://localhost:8080/"
        },
        "outputId": "cda85fe9-2c11-4e1c-a8e2-134fd83170c3"
      },
      "outputs": [
        {
          "output_type": "stream",
          "name": "stdout",
          "text": [
            "[[ 1  2  3  4  5]\n",
            " [ 6 -1 -1  7  8]\n",
            " [-1 -1  9 10 11]]\n"
          ]
        }
      ],
      "source": [
        "from io import StringIO\n",
        "fe=StringIO(\"\"\"1, 2, 3, 4, 5\\n\n",
        "                6,  ,  , 7, 8\\n\n",
        "                 ,  , 9,10,11\\n\"\"\")\n",
        "z=np.genfromtxt(fe, delimiter=\",\", dtype=int)\n",
        "print(z)"
      ]
    },
    {
      "cell_type": "markdown",
      "metadata": {
        "id": "Jp9hM2DKryXI"
      },
      "source": [
        "#### 55. What is the equivalent of enumerate for numpy arrays? (★★☆) \n",
        "(**hint**: np.ndenumerate, np.ndindex)"
      ]
    },
    {
      "cell_type": "code",
      "execution_count": null,
      "metadata": {
        "id": "FgDb9vheryXI",
        "colab": {
          "base_uri": "https://localhost:8080/"
        },
        "outputId": "a6eabf59-d785-42d4-ad0b-5abaa3a21bb4"
      },
      "outputs": [
        {
          "output_type": "stream",
          "name": "stdout",
          "text": [
            "(0, 0) 0\n",
            "(0, 1) 1\n",
            "(1, 0) 2\n",
            "(1, 1) 3\n",
            "(0, 0) 0\n",
            "(0, 1) 1\n",
            "(1, 0) 2\n",
            "(1, 1) 3\n"
          ]
        }
      ],
      "source": [
        "s=np.arange(4).reshape(2,2)\n",
        "for index,value in np.ndenumerate(s):\n",
        "    print(index, value)\n",
        "for index in np.ndindex(s.shape):\n",
        "    print(index, s[index])"
      ]
    },
    {
      "cell_type": "markdown",
      "metadata": {
        "id": "6MsRPu53ryXJ"
      },
      "source": [
        "#### 56. Generate a generic 2D Gaussian-like array (★★☆) \n",
        "(**hint**: np.meshgrid, np.exp)"
      ]
    },
    {
      "cell_type": "code",
      "execution_count": null,
      "metadata": {
        "id": "mtVhRwOEryXJ",
        "colab": {
          "base_uri": "https://localhost:8080/"
        },
        "outputId": "cfac7752-bfb7-4e49-e176-7fc58d84f0bb"
      },
      "outputs": [
        {
          "output_type": "stream",
          "name": "stdout",
          "text": [
            "[[1.   0.88 0.61]\n",
            " [0.88 0.78 0.54]\n",
            " [0.61 0.54 0.37]]\n"
          ]
        }
      ],
      "source": [
        "x,y=np.meshgrid(np.linspace(0,1,3), np.linspace(0,1,3))\n",
        "d=np.sqrt(x*x+y*y)\n",
        "sigma,mu=1.0, 0.0\n",
        "g=np.exp(-((d-mu)**2/(2.0*sigma**2)))\n",
        "print(g)"
      ]
    },
    {
      "cell_type": "markdown",
      "metadata": {
        "id": "BhepbALqryXJ"
      },
      "source": [
        "#### 57. How to randomly place p elements in a 2D array? (★★☆) \n",
        "(**hint**: np.put, np.random.choice)"
      ]
    },
    {
      "cell_type": "code",
      "execution_count": null,
      "metadata": {
        "id": "PvXu4jmmryXJ",
        "colab": {
          "base_uri": "https://localhost:8080/"
        },
        "outputId": "649bb5d6-f92d-431b-ac46-831818cb6e39"
      },
      "outputs": [
        {
          "output_type": "stream",
          "name": "stdout",
          "text": [
            "[[1. 1.]\n",
            " [1. 0.]]\n"
          ]
        }
      ],
      "source": [
        "n=2\n",
        "p=3\n",
        "z=np.zeros((n,n))\n",
        "np.put(z,np.random.choice(range(n*n), p, replace=False),1)\n",
        "print(z)"
      ]
    },
    {
      "cell_type": "markdown",
      "metadata": {
        "id": "gucV61hOryXJ"
      },
      "source": [
        "#### 58. Subtract the mean of each row of a matrix (★★☆) \n",
        "(**hint**: mean(axis=,keepdims=))"
      ]
    },
    {
      "cell_type": "code",
      "execution_count": null,
      "metadata": {
        "id": "-OlPPo4GryXJ",
        "colab": {
          "base_uri": "https://localhost:8080/"
        },
        "outputId": "bad209ac-c0b3-4a00-9e5d-1a6a2e7165ab"
      },
      "outputs": [
        {
          "output_type": "execute_result",
          "data": {
            "text/plain": [
              "array([[ 0.01, -0.01],\n",
              "       [ 0.24, -0.24]])"
            ]
          },
          "metadata": {},
          "execution_count": 71
        }
      ],
      "source": [
        "x=np.random.rand(2,2)\n",
        "x-x.mean(axis=1, keepdims=True)"
      ]
    },
    {
      "cell_type": "markdown",
      "metadata": {
        "id": "rmQrRi-WryXK"
      },
      "source": [
        "#### 59. How to sort an array by the nth column? (★★☆) \n",
        "(**hint**: argsort)"
      ]
    },
    {
      "cell_type": "code",
      "execution_count": null,
      "metadata": {
        "id": "M7div45JryXK",
        "colab": {
          "base_uri": "https://localhost:8080/"
        },
        "outputId": "ebf312c4-9c3a-4496-ba82-3031d2d65525"
      },
      "outputs": [
        {
          "output_type": "stream",
          "name": "stdout",
          "text": [
            "[[0.98 0.96]\n",
            " [0.84 0.36]]\n",
            "[[0.84 0.36]\n",
            " [0.98 0.96]]\n"
          ]
        }
      ],
      "source": [
        "print(x)\n",
        "print(x[x[:,1].argsort()])"
      ]
    },
    {
      "cell_type": "markdown",
      "metadata": {
        "id": "klv4LVtcryXK"
      },
      "source": [
        "#### 60. How to tell if a given 2D array has null columns? (★★☆) \n",
        "(**hint**: any, ~)"
      ]
    },
    {
      "cell_type": "code",
      "execution_count": null,
      "metadata": {
        "id": "hjZqsrsUryXK",
        "colab": {
          "base_uri": "https://localhost:8080/"
        },
        "outputId": "63855c0c-ce21-4dd2-f488-90f61779b43c"
      },
      "outputs": [
        {
          "output_type": "stream",
          "name": "stdout",
          "text": [
            "[[0. 0.]\n",
            " [0. 0.]]\n",
            "True\n",
            "[[1. 1.]\n",
            " [1. 1.]]\n",
            "False\n"
          ]
        }
      ],
      "source": [
        "Z=np.zeros(4).reshape(2,2)\n",
        "print(Z)\n",
        "print((~Z.any(axis=0)).any())\n",
        "X=np.ones(4).reshape(2,2)\n",
        "print(X)\n",
        "print((~X.any(axis=0)).any())"
      ]
    },
    {
      "cell_type": "markdown",
      "metadata": {
        "id": "DB5COMhcryXK"
      },
      "source": [
        "#### 61. Find the nearest value from a given value in an array (★★☆) \n",
        "(**hint**: np.abs, argmin, flat)"
      ]
    },
    {
      "cell_type": "code",
      "execution_count": null,
      "metadata": {
        "id": "eYI8-yXQryXK",
        "colab": {
          "base_uri": "https://localhost:8080/"
        },
        "outputId": "82f4185e-7f50-48ef-e2a4-bc016aa06343"
      },
      "outputs": [
        {
          "output_type": "stream",
          "name": "stdout",
          "text": [
            "2.160258640907286\n"
          ]
        }
      ],
      "source": [
        "A=np.random.uniform(2,5,10)\n",
        "a=0.5\n",
        "b=A.flat[np.abs(A-a).argmin()]\n",
        "print(b)"
      ]
    },
    {
      "cell_type": "markdown",
      "metadata": {
        "id": "wf8s5rMoryXL"
      },
      "source": [
        "#### 62. Considering two arrays with shape (1,3) and (3,1), how to compute their sum using an iterator? (★★☆) \n",
        "(**hint**: np.nditer)"
      ]
    },
    {
      "cell_type": "code",
      "execution_count": null,
      "metadata": {
        "id": "7wmGjqb7ryXL",
        "colab": {
          "base_uri": "https://localhost:8080/"
        },
        "outputId": "7c634721-9319-457f-864d-d61e27eb33a9"
      },
      "outputs": [
        {
          "output_type": "stream",
          "name": "stdout",
          "text": [
            "[[0 1 2]\n",
            " [1 2 3]\n",
            " [2 3 4]]\n"
          ]
        }
      ],
      "source": [
        "A=np.arange(3).reshape(3,1)\n",
        "B=np.arange(3).reshape(1,3)\n",
        "it=np.nditer([A,B,None])\n",
        "for x,y,z in it:z[...]=x+y\n",
        "print(it.operands[2])"
      ]
    },
    {
      "cell_type": "markdown",
      "metadata": {
        "id": "4bTfxFWBryXL"
      },
      "source": [
        "#### 63. Create an array class that has a name attribute (★★☆) \n",
        "(**hint**: class method)"
      ]
    },
    {
      "cell_type": "code",
      "execution_count": null,
      "metadata": {
        "id": "gWlGzFbIryXL",
        "colab": {
          "base_uri": "https://localhost:8080/"
        },
        "outputId": "9fab0f93-1609-476c-b43f-be9a54b64f44"
      },
      "outputs": [
        {
          "output_type": "stream",
          "name": "stdout",
          "text": [
            "range_10\n"
          ]
        }
      ],
      "source": [
        "class Array(np.ndarray):\n",
        "    def __new__(cls, array, name=\"no name\"):\n",
        "        obj = np.asarray(array).view(cls)\n",
        "        obj.name = name\n",
        "        return obj\n",
        "    def __array_finalize__(self, obj):\n",
        "        if obj is None: return\n",
        "        self.info = getattr(obj, 'name', \"no name\")\n",
        "z= Array(np.arange(10), \"range_10\")\n",
        "print(z.name)"
      ]
    },
    {
      "cell_type": "markdown",
      "metadata": {
        "id": "0i7MOPp2ryXL"
      },
      "source": [
        "#### 64. Consider a given vector, how to add 1 to each element indexed by a second vector (be careful with repeated indices)? (★★★) \n",
        "(**hint**: np.bincount | np.add.at)"
      ]
    },
    {
      "cell_type": "code",
      "execution_count": null,
      "metadata": {
        "id": "cwCXDZrZryXL",
        "colab": {
          "base_uri": "https://localhost:8080/"
        },
        "outputId": "ab755a77-d60c-42ab-e857-ab47d1046383"
      },
      "outputs": [
        {
          "output_type": "stream",
          "name": "stdout",
          "text": [
            "[1. 1. 4. 4. 2. 2. 2. 1. 1. 2.]\n",
            "[1. 1. 7. 7. 3. 3. 3. 1. 1. 3.]\n"
          ]
        }
      ],
      "source": [
        "a=np.ones(10)\n",
        "b=np.random.randint(0,len(a),10)\n",
        "a+=np.bincount(b,minlength=len(a))\n",
        "print(a)\n",
        "np.add.at(a,b,1)\n",
        "print(a)"
      ]
    },
    {
      "cell_type": "markdown",
      "metadata": {
        "id": "KqdfSAqRryXM"
      },
      "source": [
        "#### 65. How to accumulate elements of a vector (X) to an array (F) based on an index list (I)? (★★★) \n",
        "(**hint**: np.bincount)"
      ]
    },
    {
      "cell_type": "code",
      "execution_count": null,
      "metadata": {
        "id": "bRIifDXhryXM",
        "colab": {
          "base_uri": "https://localhost:8080/"
        },
        "outputId": "753581a9-31ba-4767-bc27-589104168bb4"
      },
      "outputs": [
        {
          "output_type": "execute_result",
          "data": {
            "text/plain": [
              "array([ 0.,  2.,  0.,  4.,  0.,  6.,  0.,  8.,  0., 10.,  0., 12.])"
            ]
          },
          "metadata": {},
          "execution_count": 79
        }
      ],
      "source": [
        "a=[2,4,6,8,10,12]\n",
        "b=[1,3,5,7,9,11]\n",
        "np.bincount(b,a)"
      ]
    },
    {
      "cell_type": "markdown",
      "metadata": {
        "id": "X_ik71OeryXM"
      },
      "source": [
        "#### 66. Considering a (w,h,3) image of (dtype=ubyte), compute the number of unique colors (★★★) \n",
        "(**hint**: np.unique)"
      ]
    },
    {
      "cell_type": "code",
      "execution_count": null,
      "metadata": {
        "id": "ZQzk7yTuryXM",
        "colab": {
          "base_uri": "https://localhost:8080/"
        },
        "outputId": "bbac7dac-2ada-424b-f986-bd4325f0e5b6"
      },
      "outputs": [
        {
          "output_type": "stream",
          "name": "stdout",
          "text": [
            "8\n"
          ]
        }
      ],
      "source": [
        "w,h=16,16\n",
        "i=np.random.randint(0,2,(h,w,3)).astype(np.ubyte)\n",
        "f=i[...,0]*(256*256)+i[...,1]*256+i[...,2]\n",
        "n=len(np.unique(f))\n",
        "print(n)"
      ]
    },
    {
      "cell_type": "markdown",
      "metadata": {
        "id": "84tZcB-8ryXM"
      },
      "source": [
        "#### 67. Considering a four dimensions array, how to get sum over the last two axis at once? (★★★) \n",
        "(**hint**: sum(axis=(-2,-1)))"
      ]
    },
    {
      "cell_type": "code",
      "execution_count": null,
      "metadata": {
        "id": "yB3XnaBnryXM",
        "colab": {
          "base_uri": "https://localhost:8080/"
        },
        "outputId": "f700ab07-52aa-4629-8933-6d1cae108eee"
      },
      "outputs": [
        {
          "output_type": "stream",
          "name": "stdout",
          "text": [
            "[[67 37 68 57]\n",
            " [45 42 56 53]\n",
            " [63 55 59 68]]\n",
            "[[67 37 68 57]\n",
            " [45 42 56 53]\n",
            " [63 55 59 68]]\n"
          ]
        }
      ],
      "source": [
        "a = np.random.randint(0,10,(3,4,3,4))\n",
        "sum = a.sum(axis=(-2,-1))\n",
        "print(sum)\n",
        "sum = a.reshape(a.shape[:-2] + (-1,)).sum(axis=-1)\n",
        "print(sum)"
      ]
    },
    {
      "cell_type": "markdown",
      "metadata": {
        "id": "3ejx0qburyXN"
      },
      "source": [
        "#### 68. Considering a one-dimensional vector D, how to compute means of subsets of D using a vector S of same size describing subset  indices? (★★★) \n",
        "(**hint**: np.bincount)"
      ]
    },
    {
      "cell_type": "code",
      "execution_count": null,
      "metadata": {
        "id": "4N2sepllryXN",
        "colab": {
          "base_uri": "https://localhost:8080/"
        },
        "outputId": "8f3ca224-e67e-46a7-bcf2-6546ca2f1b8f"
      },
      "outputs": [
        {
          "output_type": "stream",
          "name": "stdout",
          "text": [
            "[ nan 0.49 0.4  0.52 0.49 0.72 0.56 0.35 0.32 0.42]\n",
            "1    0.487146\n",
            "2    0.401210\n",
            "3    0.521507\n",
            "4    0.493057\n",
            "5    0.719983\n",
            "6    0.556837\n",
            "7    0.347099\n",
            "8    0.315368\n",
            "9    0.417898\n",
            "dtype: float64\n"
          ]
        },
        {
          "output_type": "stream",
          "name": "stderr",
          "text": [
            "/usr/local/lib/python3.7/dist-packages/ipykernel_launcher.py:5: RuntimeWarning: invalid value encountered in true_divide\n",
            "  \"\"\"\n"
          ]
        }
      ],
      "source": [
        "D=np.random.uniform(0,1,100)\n",
        "S=np.random.randint(1,10,100)\n",
        "D_sums=np.bincount(S, weights=D)\n",
        "D_counts=np.bincount(S)\n",
        "D_means=D_sums/D_counts\n",
        "print(D_means)\n",
        "import pandas as pd\n",
        "print(pd.Series(D).groupby(S).mean())"
      ]
    },
    {
      "cell_type": "markdown",
      "metadata": {
        "id": "a6iFAeOqryXN"
      },
      "source": [
        "#### 69. How to get the diagonal of a dot product? (★★★) \n",
        "(**hint**: np.diag)"
      ]
    },
    {
      "cell_type": "code",
      "execution_count": null,
      "metadata": {
        "id": "bl0rcMSJryXN",
        "colab": {
          "base_uri": "https://localhost:8080/"
        },
        "outputId": "bfb1b2c9-894e-42aa-f36d-6ddb469868db"
      },
      "outputs": [
        {
          "output_type": "execute_result",
          "data": {
            "text/plain": [
              "array([0.85, 0.51])"
            ]
          },
          "metadata": {},
          "execution_count": 91
        }
      ],
      "source": [
        "a=np.random.uniform(0,1,(2,2))\n",
        "b=np.random.uniform(0,1,(2,2))\n",
        "np.diag(np.dot(a,b))"
      ]
    },
    {
      "cell_type": "markdown",
      "metadata": {
        "id": "fIy3zD9oryXN"
      },
      "source": [
        "#### 70. Consider the vector \\[1, 2, 3, 4, 5\\], how to build a new vector with 3 consecutive zeros interleaved between each value? (★★★) \n",
        "(**hint**: array\\[::4\\])"
      ]
    },
    {
      "cell_type": "code",
      "execution_count": null,
      "metadata": {
        "id": "D2JupkR3ryXO",
        "colab": {
          "base_uri": "https://localhost:8080/"
        },
        "outputId": "2929de76-3a69-43dc-8f42-2e4f38c4410a"
      },
      "outputs": [
        {
          "output_type": "stream",
          "name": "stdout",
          "text": [
            "[1. 0. 0. 0. 2. 0. 0. 0. 3. 0. 0. 0. 4. 0. 0. 0. 5.]\n"
          ]
        }
      ],
      "source": [
        "vec=np.array([1,2,3,4,5])\n",
        "n=3\n",
        "Z=np.zeros(len(vec)+(len(vec)-1)*(n))\n",
        "Z[::n+1]=vec\n",
        "print(Z)"
      ]
    },
    {
      "cell_type": "markdown",
      "metadata": {
        "id": "OTFpb0rOryXO"
      },
      "source": [
        "#### 71. Consider an array of dimension (5,5,3), how to mulitply it by an array with dimensions (5,5)? (★★★) \n",
        "(**hint**: array\\[:, :, None\\])"
      ]
    },
    {
      "cell_type": "code",
      "execution_count": null,
      "metadata": {
        "collapsed": true,
        "id": "5i6dqB8ZryXO",
        "colab": {
          "base_uri": "https://localhost:8080/"
        },
        "outputId": "71d92480-95b1-486b-dfb6-a3b343d41c44"
      },
      "outputs": [
        {
          "output_type": "stream",
          "name": "stdout",
          "text": [
            "[[[10. 10. 10.]\n",
            "  [10. 10. 10.]\n",
            "  [10. 10. 10.]\n",
            "  [10. 10. 10.]\n",
            "  [10. 10. 10.]]\n",
            "\n",
            " [[10. 10. 10.]\n",
            "  [10. 10. 10.]\n",
            "  [10. 10. 10.]\n",
            "  [10. 10. 10.]\n",
            "  [10. 10. 10.]]\n",
            "\n",
            " [[10. 10. 10.]\n",
            "  [10. 10. 10.]\n",
            "  [10. 10. 10.]\n",
            "  [10. 10. 10.]\n",
            "  [10. 10. 10.]]\n",
            "\n",
            " [[10. 10. 10.]\n",
            "  [10. 10. 10.]\n",
            "  [10. 10. 10.]\n",
            "  [10. 10. 10.]\n",
            "  [10. 10. 10.]]\n",
            "\n",
            " [[10. 10. 10.]\n",
            "  [10. 10. 10.]\n",
            "  [10. 10. 10.]\n",
            "  [10. 10. 10.]\n",
            "  [10. 10. 10.]]]\n"
          ]
        }
      ],
      "source": [
        "A=5*np.ones((5,5,3))\n",
        "B=1+np.ones((5,5))\n",
        "print(A*B[:,:,None])"
      ]
    },
    {
      "cell_type": "markdown",
      "metadata": {
        "id": "DP9Gmfr8ryXO"
      },
      "source": [
        "#### 72. How to swap two rows of an array? (★★★) \n",
        "(**hint**: array\\[\\[\\]\\] = array\\[\\[\\]\\])"
      ]
    },
    {
      "cell_type": "code",
      "execution_count": null,
      "metadata": {
        "id": "CuqX4uFUryXO",
        "colab": {
          "base_uri": "https://localhost:8080/"
        },
        "outputId": "7b7a77e6-627b-4772-a562-52e617c529e9"
      },
      "outputs": [
        {
          "output_type": "stream",
          "name": "stdout",
          "text": [
            "[[3 4 5]\n",
            " [0 1 2]\n",
            " [6 7 8]]\n"
          ]
        }
      ],
      "source": [
        "A=np.arange(9).reshape(3,3)\n",
        "A[[0,1]]=A[[1,0]]\n",
        "print(A)"
      ]
    },
    {
      "cell_type": "markdown",
      "metadata": {
        "id": "XNzeZWYbryXP"
      },
      "source": [
        "#### 73. Consider a set of 10 triplets describing 10 triangles (with shared vertices), find the set of unique line segments composing all the  triangles (★★★) \n",
        "(**hint**: repeat, np.roll, np.sort, view, np.unique)"
      ]
    },
    {
      "cell_type": "code",
      "execution_count": null,
      "metadata": {
        "id": "Cnr9wFoFryXP",
        "colab": {
          "base_uri": "https://localhost:8080/"
        },
        "outputId": "45d59257-ec01-4964-e46b-93692d59a590"
      },
      "outputs": [
        {
          "output_type": "stream",
          "name": "stdout",
          "text": [
            "[( 8, 82) (11, 91) (16, 23) (18, 33) (20, 39) (21, 47) (23, 81) (33, 60)\n",
            " (39, 78) (44,  8) (47, 68) (58, 87) (60, 18) (62, 66) (62, 81) (66, 93)\n",
            " (68, 21) (69, 58) (69, 87) (78, 20) (81, 16) (81, 93) (82, 44) (87, 69)\n",
            " (87, 94) (91, 97) (93, 62) (94, 69) (97, 11)]\n"
          ]
        }
      ],
      "source": [
        "faces=np.random.randint(0,100,(10,3))\n",
        "f=np.roll(faces.repeat(2,axis=1),-1,axis=1)\n",
        "f=f.reshape(len(f)*3,2)\n",
        "F=np.sort(f,axis=1)\n",
        "g=f.view(dtype=[('p0',f.dtype),('p1',f.dtype)] )\n",
        "g=np.unique(g)\n",
        "print(g)"
      ]
    },
    {
      "cell_type": "markdown",
      "metadata": {
        "id": "iFECyIAIryXP"
      },
      "source": [
        "#### 74. Given an array C that is a bincount, how to produce an array A such that np.bincount(A) == C? (★★★) \n",
        "(**hint**: np.repeat)"
      ]
    },
    {
      "cell_type": "code",
      "execution_count": null,
      "metadata": {
        "id": "ci1jF3RgryXP",
        "colab": {
          "base_uri": "https://localhost:8080/"
        },
        "outputId": "77c32406-00bb-4bca-b82d-7992d3794439"
      },
      "outputs": [
        {
          "output_type": "stream",
          "name": "stdout",
          "text": [
            "[1 2 3 4 5 7 9]\n"
          ]
        }
      ],
      "source": [
        "a=np.bincount([1,3,5,7,9,2,4])\n",
        "b=np.repeat(np.arange(len(a)),a)\n",
        "print(b)"
      ]
    },
    {
      "cell_type": "markdown",
      "metadata": {
        "id": "kejziQZ3ryXP"
      },
      "source": [
        "#### 75. How to compute averages using a sliding window over an array? (★★★) \n",
        "(**hint**: np.cumsum)"
      ]
    },
    {
      "cell_type": "code",
      "execution_count": null,
      "metadata": {
        "id": "GKcNQWkOryXP",
        "colab": {
          "base_uri": "https://localhost:8080/"
        },
        "outputId": "6d31bc3f-c951-448d-b73a-56b246273cee"
      },
      "outputs": [
        {
          "output_type": "execute_result",
          "data": {
            "text/plain": [
              "array([ 1.,  2.,  3.,  4.,  5.,  6.,  7.,  8.,  9., 10., 11., 12., 13.,\n",
              "       14., 15., 16., 17., 18.])"
            ]
          },
          "metadata": {},
          "execution_count": 107
        }
      ],
      "source": [
        "def moving_average(a,n=3) :\n",
        "    ret=np.cumsum(a, dtype=float)\n",
        "    ret[n:]=ret[n:] - ret[:-n]\n",
        "    return ret[n - 1:] / n\n",
        "a=np.arange(20)\n",
        "moving_average(a)"
      ]
    },
    {
      "cell_type": "markdown",
      "metadata": {
        "id": "1TUEhNPuryXQ"
      },
      "source": [
        "#### 76. Consider a one-dimensional array Z, build a two-dimensional array whose first row is (Z\\[0\\],Z\\[1\\],Z\\[2\\]) and each subsequent row is  shifted by 1 (last row should be (Z\\[-3\\],Z\\[-2\\],Z\\[-1\\]) (★★★) \n",
        "(**hint**: from numpy.lib import stride_tricks)"
      ]
    },
    {
      "cell_type": "code",
      "execution_count": null,
      "metadata": {
        "id": "OpynPx8bryXQ",
        "colab": {
          "base_uri": "https://localhost:8080/"
        },
        "outputId": "397469a0-db69-4583-e883-6ed9b5bf5d69"
      },
      "outputs": [
        {
          "output_type": "stream",
          "name": "stdout",
          "text": [
            "[[0 1 2 3 4]\n",
            " [1 2 3 4 5]\n",
            " [2 3 4 5 6]\n",
            " [3 4 5 6 7]\n",
            " [4 5 6 7 8]]\n"
          ]
        }
      ],
      "source": [
        "from numpy.lib import stride_tricks\n",
        "def rolling(a, window):\n",
        "    shape=(a.size - window + 1, window)\n",
        "    strides=(a.itemsize, a.itemsize)\n",
        "    return stride_tricks.as_strided(a, shape=shape, strides=strides)\n",
        "Z=rolling(np.arange(9), 5)\n",
        "print(Z)"
      ]
    },
    {
      "cell_type": "markdown",
      "metadata": {
        "id": "iQq7ODJ3ryXQ"
      },
      "source": [
        "#### 77. How to negate a boolean, or to change the sign of a float inplace? (★★★) \n",
        "(**hint**: np.logical_not, np.negative)"
      ]
    },
    {
      "cell_type": "code",
      "execution_count": null,
      "metadata": {
        "id": "ksb0YWdJryXQ",
        "colab": {
          "base_uri": "https://localhost:8080/"
        },
        "outputId": "2167f0bb-a8e6-4221-81cc-0a3a1dc4f808"
      },
      "outputs": [
        {
          "output_type": "stream",
          "name": "stdout",
          "text": [
            "[1 1 1 1 1 1 1 1 1 1 1 1 1 1 1 1 1 1 1 1]\n",
            "[-1 -1 -1 -1 -1 -1 -1 -1 -1 -1 -1 -1 -1 -1 -1 -1 -1 -1 -1 -1]\n"
          ]
        }
      ],
      "source": [
        "a=np.random.randint(0,1,20)\n",
        "print(np.logical_not(a,out=a))\n",
        "print(np.negative(a, out=a))"
      ]
    },
    {
      "cell_type": "markdown",
      "metadata": {
        "id": "UEItFSMEryXQ"
      },
      "source": [
        "#### 78. Consider 2 sets of points P0,P1 describing lines (2d) and a point p, how to compute distance from p to each line i  (P0\\[i\\],P1\\[i\\])? (★★★)"
      ]
    },
    {
      "cell_type": "code",
      "execution_count": null,
      "metadata": {
        "id": "qMETbXZgryXR",
        "colab": {
          "base_uri": "https://localhost:8080/"
        },
        "outputId": "80fb8a26-f838-4337-f01f-6d88a1eb121d"
      },
      "outputs": [
        {
          "output_type": "execute_result",
          "data": {
            "text/plain": [
              "array([ 7.65,  6.38, 17.11, 17.83,  0.37, 10.86,  9.97,  4.23,  0.28,\n",
              "        4.58])"
            ]
          },
          "metadata": {},
          "execution_count": 121
        }
      ],
      "source": [
        "def distance(P0,P1,p):\n",
        "    t=P1 - P0\n",
        "    l=(t**2).sum(axis=1)\n",
        "    u=-((P0[:,0]-p[...,0])*t[:,0] + (P0[:,1]-p[...,1])*t[:,1]) / l\n",
        "    u=u.reshape(len(u),1)\n",
        "    d=P0+u*t-p\n",
        "    return np.sqrt((d**2).sum(axis=1))\n",
        "P0=np.random.uniform(-10,10,(10,2))\n",
        "P1=np.random.uniform(-10,10,(10,2))\n",
        "p=np.random.uniform(-10,10,( 1,2))\n",
        "distance(P0, P1, p)"
      ]
    },
    {
      "cell_type": "markdown",
      "metadata": {
        "id": "7eZKsHpZryXR"
      },
      "source": [
        "#### 79. Consider 2 sets of points P0,P1 describing lines (2d) and a set of points P, how to compute distance from each point j (P\\[j\\]) to each line i (P0\\[i\\],P1\\[i\\])? (★★★)"
      ]
    },
    {
      "cell_type": "code",
      "execution_count": null,
      "metadata": {
        "id": "_8mSJjBEryXR",
        "colab": {
          "base_uri": "https://localhost:8080/"
        },
        "outputId": "b54193cd-17ad-4d09-a112-4447a57a5be9"
      },
      "outputs": [
        {
          "output_type": "stream",
          "name": "stdout",
          "text": [
            "[[ 7.65  6.38 17.11 17.83  0.37 10.86  9.97  4.23  0.28  4.58]]\n"
          ]
        }
      ],
      "source": [
        "print(np.array([distance(P0,P1,p_i) for p_i in p]))"
      ]
    },
    {
      "cell_type": "markdown",
      "metadata": {
        "id": "JMNdVJCDryXR"
      },
      "source": [
        "#### 80. Consider an arbitrary array, write a function that extract a subpart with a fixed shape and centered on a given element (pad with a `fill` value when necessary) (★★★) \n",
        "(**hint**: minimum, maximum)"
      ]
    },
    {
      "cell_type": "code",
      "execution_count": null,
      "metadata": {
        "id": "kQhc-MEVryXR",
        "colab": {
          "base_uri": "https://localhost:8080/"
        },
        "outputId": "27c4b891-7000-4eaa-bc49-016df0b2b8bf"
      },
      "outputs": [
        {
          "output_type": "stream",
          "name": "stdout",
          "text": [
            "[[4 2 7 9 0 5 1 6 0 7]\n",
            " [9 2 9 5 0 0 9 6 0 9]\n",
            " [4 7 3 4 4 1 4 4 0 6]\n",
            " [9 8 8 5 8 5 9 2 6 7]\n",
            " [8 9 8 2 7 6 0 1 5 0]\n",
            " [9 3 6 3 0 0 1 0 0 9]\n",
            " [4 0 0 9 3 0 2 7 1 5]\n",
            " [1 8 6 4 7 1 3 9 4 1]\n",
            " [0 4 6 8 1 5 8 6 9 8]\n",
            " [8 4 6 2 6 8 2 1 8 0]]\n",
            "[[0 0 0 0 0]\n",
            " [0 4 2 7 9]\n",
            " [0 9 2 9 5]\n",
            " [0 4 7 3 4]\n",
            " [0 9 8 8 5]]\n"
          ]
        },
        {
          "output_type": "stream",
          "name": "stderr",
          "text": [
            "/usr/local/lib/python3.7/dist-packages/ipykernel_launcher.py:19: FutureWarning: Using a non-tuple sequence for multidimensional indexing is deprecated; use `arr[tuple(seq)]` instead of `arr[seq]`. In the future this will be interpreted as an array index, `arr[np.array(seq)]`, which will result either in an error or a different result.\n"
          ]
        }
      ],
      "source": [
        "Z = np.random.randint(0,10,(10,10))\n",
        "shape = (5,5)\n",
        "fill  = 0\n",
        "position = (1,1)\n",
        "R = np.ones(shape, dtype=Z.dtype)*fill\n",
        "P  = np.array(list(position)).astype(int)\n",
        "Rs = np.array(list(R.shape)).astype(int)\n",
        "Zs = np.array(list(Z.shape)).astype(int)\n",
        "R_start = np.zeros((len(shape),)).astype(int)\n",
        "R_stop  = np.array(list(shape)).astype(int)\n",
        "Z_start = (P-Rs//2)\n",
        "Z_stop  = (P+Rs//2)+Rs%2\n",
        "R_start = (R_start - np.minimum(Z_start,0)).tolist()\n",
        "Z_start = (np.maximum(Z_start,0)).tolist()\n",
        "R_stop = np.maximum(R_start, (R_stop - np.maximum(Z_stop-Zs,0))).tolist()\n",
        "Z_stop = (np.minimum(Z_stop,Zs)).tolist()\n",
        "r = [slice(start,stop) for start,stop in zip(R_start,R_stop)]\n",
        "z = [slice(start,stop) for start,stop in zip(Z_start,Z_stop)]\n",
        "R[r] = Z[z]\n",
        "print(Z)\n",
        "print(R)"
      ]
    },
    {
      "cell_type": "markdown",
      "metadata": {
        "id": "ZWTERp86ryXR"
      },
      "source": [
        "#### 81. Consider an array Z = \\[1,2,3,4,5,6,7,8,9,10,11,12,13,14\\], how to generate an array R = \\[\\[1,2,3,4\\], \\[2,3,4,5\\], \\[3,4,5,6\\], ..., \\[11,12,13,14\\]\\]? (★★★) \n",
        "(**hint**: stride\\_tricks.as\\_strided)"
      ]
    },
    {
      "cell_type": "code",
      "execution_count": null,
      "metadata": {
        "id": "w2CJvC_iryXS",
        "colab": {
          "base_uri": "https://localhost:8080/"
        },
        "outputId": "e8379eff-f0a0-4c9b-cccb-4c049d2e58b3"
      },
      "outputs": [
        {
          "output_type": "execute_result",
          "data": {
            "text/plain": [
              "array([[ 1,  2,  3,  4],\n",
              "       [ 2,  3,  4,  5],\n",
              "       [ 3,  4,  5,  6],\n",
              "       [ 4,  5,  6,  7],\n",
              "       [ 5,  6,  7,  8],\n",
              "       [ 6,  7,  8,  9],\n",
              "       [ 7,  8,  9, 10],\n",
              "       [ 8,  9, 10, 11],\n",
              "       [ 9, 10, 11, 12],\n",
              "       [10, 11, 12, 13],\n",
              "       [11, 12, 13, 14]], dtype=uint32)"
            ]
          },
          "metadata": {},
          "execution_count": 129
        }
      ],
      "source": [
        "Z=np.arange(1,15,dtype=np.uint32)\n",
        "stride_tricks.as_strided(Z,(11,4),(4,4))"
      ]
    },
    {
      "cell_type": "markdown",
      "metadata": {
        "id": "VlncTLLrryXS"
      },
      "source": [
        "#### 82. Compute a matrix rank (★★★) \n",
        "(**hint**: np.linalg.svd) (suggestion: np.linalg.svd)"
      ]
    },
    {
      "cell_type": "code",
      "execution_count": null,
      "metadata": {
        "id": "idj9wcfDryXS",
        "colab": {
          "base_uri": "https://localhost:8080/"
        },
        "outputId": "359b5503-ed5b-4e6e-fa80-fc02ba640127"
      },
      "outputs": [
        {
          "output_type": "stream",
          "name": "stdout",
          "text": [
            "10\n"
          ]
        }
      ],
      "source": [
        "Z=np.random.uniform(0,1,(10,10))\n",
        "U,S,V=np.linalg.svd(Z)\n",
        "rank=np.sum(S > 1e-10)\n",
        "print(rank)"
      ]
    },
    {
      "cell_type": "markdown",
      "metadata": {
        "id": "3rqBGEMMryXS"
      },
      "source": [
        "#### 83. How to find the most frequent value in an array? \n",
        "(**hint**: np.bincount, argmax)"
      ]
    },
    {
      "cell_type": "code",
      "execution_count": null,
      "metadata": {
        "id": "Wld3cEY2ryXS",
        "colab": {
          "base_uri": "https://localhost:8080/"
        },
        "outputId": "739c62f5-47d9-4168-df1e-836f0b43c8a0"
      },
      "outputs": [
        {
          "output_type": "execute_result",
          "data": {
            "text/plain": [
              "7"
            ]
          },
          "metadata": {},
          "execution_count": 135
        }
      ],
      "source": [
        "a=np.random.randint(1,10,5)\n",
        "np.bincount(a).argmax()"
      ]
    },
    {
      "cell_type": "markdown",
      "metadata": {
        "id": "UqHoq5HcryXS"
      },
      "source": [
        "#### 84. Extract all the contiguous 3x3 blocks from a random 10x10 matrix (★★★) \n",
        "(**hint**: stride\\_tricks.as\\_strided)"
      ]
    },
    {
      "cell_type": "code",
      "execution_count": null,
      "metadata": {
        "id": "Rgy36NWTryXT",
        "colab": {
          "base_uri": "https://localhost:8080/"
        },
        "outputId": "eef7b611-864a-4067-c805-b8afa76e6b6d"
      },
      "outputs": [
        {
          "output_type": "stream",
          "name": "stdout",
          "text": [
            "[[[[1 1 1]\n",
            "   [2 0 1]\n",
            "   [0 4 0]]\n",
            "\n",
            "  [[1 1 4]\n",
            "   [0 1 3]\n",
            "   [4 0 3]]\n",
            "\n",
            "  [[1 4 3]\n",
            "   [1 3 3]\n",
            "   [0 3 3]]\n",
            "\n",
            "  [[4 3 0]\n",
            "   [3 3 4]\n",
            "   [3 3 2]]\n",
            "\n",
            "  [[3 0 1]\n",
            "   [3 4 4]\n",
            "   [3 2 1]]\n",
            "\n",
            "  [[0 1 0]\n",
            "   [4 4 1]\n",
            "   [2 1 0]]\n",
            "\n",
            "  [[1 0 3]\n",
            "   [4 1 4]\n",
            "   [1 0 3]]\n",
            "\n",
            "  [[0 3 3]\n",
            "   [1 4 4]\n",
            "   [0 3 1]]]\n",
            "\n",
            "\n",
            " [[[2 0 1]\n",
            "   [0 4 0]\n",
            "   [1 2 2]]\n",
            "\n",
            "  [[0 1 3]\n",
            "   [4 0 3]\n",
            "   [2 2 0]]\n",
            "\n",
            "  [[1 3 3]\n",
            "   [0 3 3]\n",
            "   [2 0 0]]\n",
            "\n",
            "  [[3 3 4]\n",
            "   [3 3 2]\n",
            "   [0 0 3]]\n",
            "\n",
            "  [[3 4 4]\n",
            "   [3 2 1]\n",
            "   [0 3 3]]\n",
            "\n",
            "  [[4 4 1]\n",
            "   [2 1 0]\n",
            "   [3 3 2]]\n",
            "\n",
            "  [[4 1 4]\n",
            "   [1 0 3]\n",
            "   [3 2 0]]\n",
            "\n",
            "  [[1 4 4]\n",
            "   [0 3 1]\n",
            "   [2 0 2]]]\n",
            "\n",
            "\n",
            " [[[0 4 0]\n",
            "   [1 2 2]\n",
            "   [3 3 3]]\n",
            "\n",
            "  [[4 0 3]\n",
            "   [2 2 0]\n",
            "   [3 3 1]]\n",
            "\n",
            "  [[0 3 3]\n",
            "   [2 0 0]\n",
            "   [3 1 3]]\n",
            "\n",
            "  [[3 3 2]\n",
            "   [0 0 3]\n",
            "   [1 3 1]]\n",
            "\n",
            "  [[3 2 1]\n",
            "   [0 3 3]\n",
            "   [3 1 4]]\n",
            "\n",
            "  [[2 1 0]\n",
            "   [3 3 2]\n",
            "   [1 4 3]]\n",
            "\n",
            "  [[1 0 3]\n",
            "   [3 2 0]\n",
            "   [4 3 0]]\n",
            "\n",
            "  [[0 3 1]\n",
            "   [2 0 2]\n",
            "   [3 0 3]]]\n",
            "\n",
            "\n",
            " [[[1 2 2]\n",
            "   [3 3 3]\n",
            "   [4 3 2]]\n",
            "\n",
            "  [[2 2 0]\n",
            "   [3 3 1]\n",
            "   [3 2 3]]\n",
            "\n",
            "  [[2 0 0]\n",
            "   [3 1 3]\n",
            "   [2 3 1]]\n",
            "\n",
            "  [[0 0 3]\n",
            "   [1 3 1]\n",
            "   [3 1 4]]\n",
            "\n",
            "  [[0 3 3]\n",
            "   [3 1 4]\n",
            "   [1 4 4]]\n",
            "\n",
            "  [[3 3 2]\n",
            "   [1 4 3]\n",
            "   [4 4 2]]\n",
            "\n",
            "  [[3 2 0]\n",
            "   [4 3 0]\n",
            "   [4 2 2]]\n",
            "\n",
            "  [[2 0 2]\n",
            "   [3 0 3]\n",
            "   [2 2 0]]]\n",
            "\n",
            "\n",
            " [[[3 3 3]\n",
            "   [4 3 2]\n",
            "   [4 2 0]]\n",
            "\n",
            "  [[3 3 1]\n",
            "   [3 2 3]\n",
            "   [2 0 4]]\n",
            "\n",
            "  [[3 1 3]\n",
            "   [2 3 1]\n",
            "   [0 4 4]]\n",
            "\n",
            "  [[1 3 1]\n",
            "   [3 1 4]\n",
            "   [4 4 3]]\n",
            "\n",
            "  [[3 1 4]\n",
            "   [1 4 4]\n",
            "   [4 3 2]]\n",
            "\n",
            "  [[1 4 3]\n",
            "   [4 4 2]\n",
            "   [3 2 0]]\n",
            "\n",
            "  [[4 3 0]\n",
            "   [4 2 2]\n",
            "   [2 0 1]]\n",
            "\n",
            "  [[3 0 3]\n",
            "   [2 2 0]\n",
            "   [0 1 2]]]\n",
            "\n",
            "\n",
            " [[[4 3 2]\n",
            "   [4 2 0]\n",
            "   [1 4 0]]\n",
            "\n",
            "  [[3 2 3]\n",
            "   [2 0 4]\n",
            "   [4 0 3]]\n",
            "\n",
            "  [[2 3 1]\n",
            "   [0 4 4]\n",
            "   [0 3 2]]\n",
            "\n",
            "  [[3 1 4]\n",
            "   [4 4 3]\n",
            "   [3 2 0]]\n",
            "\n",
            "  [[1 4 4]\n",
            "   [4 3 2]\n",
            "   [2 0 3]]\n",
            "\n",
            "  [[4 4 2]\n",
            "   [3 2 0]\n",
            "   [0 3 1]]\n",
            "\n",
            "  [[4 2 2]\n",
            "   [2 0 1]\n",
            "   [3 1 3]]\n",
            "\n",
            "  [[2 2 0]\n",
            "   [0 1 2]\n",
            "   [1 3 1]]]\n",
            "\n",
            "\n",
            " [[[4 2 0]\n",
            "   [1 4 0]\n",
            "   [3 3 2]]\n",
            "\n",
            "  [[2 0 4]\n",
            "   [4 0 3]\n",
            "   [3 2 3]]\n",
            "\n",
            "  [[0 4 4]\n",
            "   [0 3 2]\n",
            "   [2 3 3]]\n",
            "\n",
            "  [[4 4 3]\n",
            "   [3 2 0]\n",
            "   [3 3 2]]\n",
            "\n",
            "  [[4 3 2]\n",
            "   [2 0 3]\n",
            "   [3 2 1]]\n",
            "\n",
            "  [[3 2 0]\n",
            "   [0 3 1]\n",
            "   [2 1 4]]\n",
            "\n",
            "  [[2 0 1]\n",
            "   [3 1 3]\n",
            "   [1 4 4]]\n",
            "\n",
            "  [[0 1 2]\n",
            "   [1 3 1]\n",
            "   [4 4 0]]]\n",
            "\n",
            "\n",
            " [[[1 4 0]\n",
            "   [3 3 2]\n",
            "   [1 4 3]]\n",
            "\n",
            "  [[4 0 3]\n",
            "   [3 2 3]\n",
            "   [4 3 1]]\n",
            "\n",
            "  [[0 3 2]\n",
            "   [2 3 3]\n",
            "   [3 1 2]]\n",
            "\n",
            "  [[3 2 0]\n",
            "   [3 3 2]\n",
            "   [1 2 3]]\n",
            "\n",
            "  [[2 0 3]\n",
            "   [3 2 1]\n",
            "   [2 3 1]]\n",
            "\n",
            "  [[0 3 1]\n",
            "   [2 1 4]\n",
            "   [3 1 3]]\n",
            "\n",
            "  [[3 1 3]\n",
            "   [1 4 4]\n",
            "   [1 3 1]]\n",
            "\n",
            "  [[1 3 1]\n",
            "   [4 4 0]\n",
            "   [3 1 2]]]]\n"
          ]
        }
      ],
      "source": [
        "Z=np.random.randint(0,5,(10,10))\n",
        "n=3\n",
        "i=1+(Z.shape[0]-3)\n",
        "j=1+(Z.shape[1]-3)\n",
        "C=stride_tricks.as_strided(Z, shape=(i, j, n, n), strides=Z.strides + Z.strides)\n",
        "print(C)"
      ]
    },
    {
      "cell_type": "markdown",
      "metadata": {
        "id": "C3uPbkRPryXT"
      },
      "source": [
        "#### 85. Create a 2D array subclass such that Z\\[i,j\\] == Z\\[j,i\\] (★★★) \n",
        "(**hint**: class method)"
      ]
    },
    {
      "cell_type": "code",
      "execution_count": null,
      "metadata": {
        "id": "ThYgIBY7ryXT",
        "colab": {
          "base_uri": "https://localhost:8080/"
        },
        "outputId": "6daed9db-eab2-40fb-95d8-d94a4d9bb036"
      },
      "outputs": [
        {
          "output_type": "stream",
          "name": "stdout",
          "text": [
            "[[ 9  4  4 16  1]\n",
            " [ 4  2  2  4 10]\n",
            " [ 4  2  5 42 12]\n",
            " [16  4 42  1  9]\n",
            " [ 1 10 12  9  5]]\n"
          ]
        }
      ],
      "source": [
        "class Symetric(np.ndarray):\n",
        "    def __setitem__(self, index, value):\n",
        "        i,j = index\n",
        "        super(Symetric, self).__setitem__((i,j), value)\n",
        "        super(Symetric, self).__setitem__((j,i), value)\n",
        "def symetric(Z):\n",
        "    return np.asarray(Z + Z.T - np.diag(Z.diagonal())).view(Symetric)\n",
        "S = symetric(np.random.randint(0,10,(5,5)))\n",
        "S[2,3] = 42\n",
        "print(S)"
      ]
    },
    {
      "cell_type": "markdown",
      "metadata": {
        "id": "BgWZJgcOryXT"
      },
      "source": [
        "#### 86. Consider a set of p matrices wich shape (n,n) and a set of p vectors with shape (n,1). How to compute the sum of of the p matrix products at once? (result has shape (n,1)) (★★★) \n",
        "(**hint**: np.tensordot)"
      ]
    },
    {
      "cell_type": "code",
      "execution_count": null,
      "metadata": {
        "id": "TrY_CkG2ryXT",
        "colab": {
          "base_uri": "https://localhost:8080/"
        },
        "outputId": "3ad6a888-293d-49b6-fc60-c23ad65c42eb"
      },
      "outputs": [
        {
          "output_type": "stream",
          "name": "stdout",
          "text": [
            "[[200.]\n",
            " [200.]\n",
            " [200.]\n",
            " [200.]\n",
            " [200.]\n",
            " [200.]\n",
            " [200.]\n",
            " [200.]\n",
            " [200.]\n",
            " [200.]\n",
            " [200.]\n",
            " [200.]\n",
            " [200.]\n",
            " [200.]\n",
            " [200.]\n",
            " [200.]\n",
            " [200.]\n",
            " [200.]\n",
            " [200.]\n",
            " [200.]]\n"
          ]
        }
      ],
      "source": [
        "p,n= 10, 20\n",
        "M=np.ones((p,n,n))\n",
        "V=np.ones((p,n,1))\n",
        "S=np.tensordot(M, V, axes=[[0, 2], [0, 1]])\n",
        "print(S)"
      ]
    },
    {
      "cell_type": "markdown",
      "metadata": {
        "id": "cZAR85EEryXU"
      },
      "source": [
        "#### 87. Consider a 16x16 array, how to get the block-sum (block size is 4x4)? (★★★) \n",
        "(**hint**: np.add.reduceat)"
      ]
    },
    {
      "cell_type": "code",
      "execution_count": null,
      "metadata": {
        "id": "Cz_OCd16ryXU",
        "colab": {
          "base_uri": "https://localhost:8080/"
        },
        "outputId": "04b4906c-f61f-452f-88bc-3347837d1707"
      },
      "outputs": [
        {
          "output_type": "stream",
          "name": "stdout",
          "text": [
            "[[16. 16. 16. 16.]\n",
            " [16. 16. 16. 16.]\n",
            " [16. 16. 16. 16.]\n",
            " [16. 16. 16. 16.]]\n"
          ]
        }
      ],
      "source": [
        "Z=np.ones((16,16))\n",
        "k=4\n",
        "S=np.add.reduceat(np.add.reduceat(Z, np.arange(0, Z.shape[0], k), axis=0),\n",
        "                                       np.arange(0, Z.shape[1], k), axis=1)\n",
        "print(S)"
      ]
    },
    {
      "cell_type": "markdown",
      "metadata": {
        "id": "GQoyTR3VryXU"
      },
      "source": [
        "#### 88. How to implement the Game of Life using numpy arrays? (★★★)"
      ]
    },
    {
      "cell_type": "code",
      "execution_count": null,
      "metadata": {
        "id": "3on-m4yxryXU",
        "colab": {
          "base_uri": "https://localhost:8080/"
        },
        "outputId": "3c74e177-fc84-45fb-ffe6-e1c425ebe40e"
      },
      "outputs": [
        {
          "output_type": "stream",
          "name": "stdout",
          "text": [
            "[[0 0 0 ... 0 0 0]\n",
            " [0 0 0 ... 0 0 0]\n",
            " [0 0 0 ... 0 0 0]\n",
            " ...\n",
            " [0 0 0 ... 0 0 0]\n",
            " [0 0 0 ... 0 0 0]\n",
            " [0 0 0 ... 0 0 0]]\n"
          ]
        }
      ],
      "source": [
        "def iterate(Z):\n",
        "    N = (Z[0:-2,0:-2] + Z[0:-2,1:-1] + Z[0:-2,2:] +\n",
        "         Z[1:-1,0:-2]                + Z[1:-1,2:] +\n",
        "         Z[2:  ,0:-2] + Z[2:  ,1:-1] + Z[2:  ,2:])\n",
        "    birth = (N==3) & (Z[1:-1,1:-1]==0)\n",
        "    survive = ((N==2) | (N==3)) & (Z[1:-1,1:-1]==1)\n",
        "    Z[...] = 0\n",
        "    Z[1:-1,1:-1][birth | survive] = 1\n",
        "    return Z\n",
        "Z = np.random.randint(0,2,(50,50))\n",
        "for i in range(10): Z = iterate(Z)\n",
        "print(Z)"
      ]
    },
    {
      "cell_type": "markdown",
      "metadata": {
        "id": "ViP4_NmEryXU"
      },
      "source": [
        "#### 89. How to get the n largest values of an array (★★★) \n",
        "(**hint**: np.argsort | np.argpartition)"
      ]
    },
    {
      "cell_type": "code",
      "execution_count": null,
      "metadata": {
        "id": "0Is4pUE3ryXU",
        "colab": {
          "base_uri": "https://localhost:8080/"
        },
        "outputId": "ae2d16f9-366b-4c04-fb2d-a60e75d776e6"
      },
      "outputs": [
        {
          "output_type": "stream",
          "name": "stdout",
          "text": [
            "[95 96 97 98 99]\n",
            "[96 97 98 99 95]\n"
          ]
        }
      ],
      "source": [
        "Z = np.arange(100)\n",
        "np.random.shuffle(Z)\n",
        "n = 5\n",
        "print (Z[np.argsort(Z)[-n:]])\n",
        "print (Z[np.argpartition(-Z,n)[:n]])"
      ]
    },
    {
      "cell_type": "markdown",
      "metadata": {
        "id": "uRiBhTndryXV"
      },
      "source": [
        "#### 90. Given an arbitrary number of vectors, build the cartesian product (every combinations of every item) (★★★) \n",
        "(**hint**: np.indices)"
      ]
    },
    {
      "cell_type": "code",
      "execution_count": null,
      "metadata": {
        "id": "rIiH72YeryXV",
        "scrolled": true,
        "colab": {
          "base_uri": "https://localhost:8080/"
        },
        "outputId": "b350f2fd-50eb-4c0c-d438-ce99c0a8605a"
      },
      "outputs": [
        {
          "output_type": "stream",
          "name": "stdout",
          "text": [
            "[[1 4 6]\n",
            " [1 4 7]\n",
            " [1 5 6]\n",
            " [1 5 7]\n",
            " [2 4 6]\n",
            " [2 4 7]\n",
            " [2 5 6]\n",
            " [2 5 7]\n",
            " [3 4 6]\n",
            " [3 4 7]\n",
            " [3 5 6]\n",
            " [3 5 7]]\n"
          ]
        }
      ],
      "source": [
        "def cartesian(arrays):\n",
        "    arrays = [np.asarray(a) for a in arrays]\n",
        "    shape = (len(x) for x in arrays)\n",
        "    ix = np.indices(shape, dtype=int)\n",
        "    ix = ix.reshape(len(arrays), -1).T\n",
        "    for n, arr in enumerate(arrays):\n",
        "        ix[:, n] = arrays[n][ix[:, n]]\n",
        "    return ix\n",
        "print (cartesian(([1, 2, 3], [4, 5], [6, 7])))"
      ]
    },
    {
      "cell_type": "markdown",
      "metadata": {
        "id": "LP7Dd4auryXV"
      },
      "source": [
        "#### 91. How to create a record array from a regular array? (★★★) \n",
        "(**hint**: np.core.records.fromarrays)"
      ]
    },
    {
      "cell_type": "code",
      "execution_count": null,
      "metadata": {
        "id": "hviHYwMeryXV",
        "colab": {
          "base_uri": "https://localhost:8080/"
        },
        "outputId": "8465754d-59bf-46d2-b5f0-08b8396d3b2b"
      },
      "outputs": [
        {
          "output_type": "stream",
          "name": "stdout",
          "text": [
            "[(b'hello', 2.5, 3) (b'world', 3.6, 2)]\n"
          ]
        }
      ],
      "source": [
        "z=np.array([(\"hello\",2.5,3),\n",
        "            (\"world\",3.6,2)])\n",
        "r=np.core.records.fromarrays(z.T,names='col1,col2,col3',formats='S8,f8,i8')\n",
        "print(r)"
      ]
    },
    {
      "cell_type": "markdown",
      "metadata": {
        "id": "_0UAKn1oryXV"
      },
      "source": [
        "#### 92. Consider a large vector Z, compute Z to the power of 3 using 3 different methods (★★★) \n",
        "(**hint**: np.power, \\*, np.einsum)"
      ]
    },
    {
      "cell_type": "code",
      "execution_count": null,
      "metadata": {
        "id": "S5SvDUZrryXV",
        "colab": {
          "base_uri": "https://localhost:8080/"
        },
        "outputId": "23582f08-411b-4112-f7f7-e34b1851f505"
      },
      "outputs": [
        {
          "output_type": "stream",
          "name": "stdout",
          "text": [
            "1 loop, best of 5: 3.74 s per loop\n",
            "10 loops, best of 5: 138 ms per loop\n",
            "10 loops, best of 5: 122 ms per loop\n"
          ]
        }
      ],
      "source": [
        "x=np.random.random(int(5e7))\n",
        "%timeit np.power(x,3)\n",
        "%timeit x*x*x\n",
        "%timeit np.einsum('i,i,i->i',x,x,x)"
      ]
    },
    {
      "cell_type": "markdown",
      "metadata": {
        "id": "KXd9kJYXryXW"
      },
      "source": [
        "#### 93. Consider two arrays A and B of shape (8,3) and (2,2). How to find rows of A that contain elements of each row of B regardless of the order of the elements in B? (★★★) \n",
        "(**hint**: np.where)"
      ]
    },
    {
      "cell_type": "code",
      "execution_count": null,
      "metadata": {
        "id": "E2l5NBLvryXW",
        "colab": {
          "base_uri": "https://localhost:8080/"
        },
        "outputId": "8974a13b-a9b7-481f-bca7-3b5c7f91418e"
      },
      "outputs": [
        {
          "output_type": "stream",
          "name": "stdout",
          "text": [
            "[2 3 6 7]\n"
          ]
        }
      ],
      "source": [
        "A=np.random.randint(0,5,(8,3))\n",
        "B=np.random.randint(0,5,(2,2))\n",
        "C=(A[..., np.newaxis, np.newaxis] == B)\n",
        "rows=np.where(C.any((3,1)).all(1))[0]\n",
        "print(rows)"
      ]
    },
    {
      "cell_type": "markdown",
      "metadata": {
        "id": "3cOJfokRryXW"
      },
      "source": [
        "#### 94. Considering a 10x3 matrix, extract rows with unequal values (e.g. \\[2,2,3\\]) (★★★)"
      ]
    },
    {
      "cell_type": "code",
      "execution_count": null,
      "metadata": {
        "id": "hQsd-HhJryXW",
        "colab": {
          "base_uri": "https://localhost:8080/"
        },
        "outputId": "0c6e2077-bca6-49a6-f79e-417e2cd34476"
      },
      "outputs": [
        {
          "output_type": "stream",
          "name": "stdout",
          "text": [
            "[[0 2 4]\n",
            " [1 1 3]\n",
            " [3 2 3]\n",
            " [1 3 3]\n",
            " [4 0 0]\n",
            " [0 1 1]\n",
            " [4 3 1]\n",
            " [1 3 1]\n",
            " [4 3 2]\n",
            " [3 3 2]]\n",
            "[[0 2 4]\n",
            " [1 1 3]\n",
            " [3 2 3]\n",
            " [1 3 3]\n",
            " [4 0 0]\n",
            " [0 1 1]\n",
            " [4 3 1]\n",
            " [1 3 1]\n",
            " [4 3 2]\n",
            " [3 3 2]]\n",
            "[[0 2 4]\n",
            " [1 1 3]\n",
            " [3 2 3]\n",
            " [1 3 3]\n",
            " [4 0 0]\n",
            " [0 1 1]\n",
            " [4 3 1]\n",
            " [1 3 1]\n",
            " [4 3 2]\n",
            " [3 3 2]]\n"
          ]
        }
      ],
      "source": [
        "Z=np.random.randint(0,5,(10,3))\n",
        "print(Z)\n",
        "E=np.all(Z[:,1:] == Z[:,:-1], axis=1)\n",
        "U=Z[~E]\n",
        "print(U)\n",
        "U=Z[Z.max(axis=1) != Z.min(axis=1),:]\n",
        "print(U)"
      ]
    },
    {
      "cell_type": "markdown",
      "metadata": {
        "id": "kH7GQ4POryXW"
      },
      "source": [
        "#### 95. Convert a vector of ints into a matrix binary representation (★★★) \n",
        "(**hint**: np.unpackbits)"
      ]
    },
    {
      "cell_type": "code",
      "execution_count": null,
      "metadata": {
        "id": "hIXNX7gzryXX",
        "colab": {
          "base_uri": "https://localhost:8080/"
        },
        "outputId": "f3d44dde-80c5-4db6-9183-3649647032e4"
      },
      "outputs": [
        {
          "output_type": "stream",
          "name": "stdout",
          "text": [
            "[[0 0 0 0 0 0 0 0]\n",
            " [0 0 0 0 0 0 0 1]\n",
            " [0 0 0 0 0 0 1 0]\n",
            " [0 0 0 0 0 0 1 1]\n",
            " [0 0 0 0 1 1 1 1]\n",
            " [0 0 0 1 0 0 0 0]\n",
            " [0 0 1 0 0 0 0 0]\n",
            " [0 1 0 0 0 0 0 0]\n",
            " [1 0 0 0 0 0 0 0]]\n",
            "[[0 0 0 0 0 0 0 0]\n",
            " [0 0 0 0 0 0 0 1]\n",
            " [0 0 0 0 0 0 1 0]\n",
            " [0 0 0 0 0 0 1 1]\n",
            " [0 0 0 0 1 1 1 1]\n",
            " [0 0 0 1 0 0 0 0]\n",
            " [0 0 1 0 0 0 0 0]\n",
            " [0 1 0 0 0 0 0 0]\n",
            " [1 0 0 0 0 0 0 0]]\n"
          ]
        }
      ],
      "source": [
        "I = np.array([0, 1, 2, 3, 15, 16, 32, 64, 128])\n",
        "B = ((I.reshape(-1,1) & (2**np.arange(8))) != 0).astype(int)\n",
        "print(B[:,::-1])\n",
        "I = np.array([0, 1, 2, 3, 15, 16, 32, 64, 128], dtype=np.uint8)\n",
        "print(np.unpackbits(I[:, np.newaxis], axis=1))"
      ]
    },
    {
      "cell_type": "markdown",
      "metadata": {
        "id": "klvxUbq7ryXX"
      },
      "source": [
        "#### 96. Given a two dimensional array, how to extract unique rows? (★★★) \n",
        "(**hint**: np.ascontiguousarray)"
      ]
    },
    {
      "cell_type": "code",
      "execution_count": null,
      "metadata": {
        "id": "S9TGis7_ryXX"
      },
      "outputs": [],
      "source": [
        "Z = np.random.randint(0,21(5,5))\n",
        "T = np.ascontiguousarray(Z).view(np.dtype((np.void, Z.dtype.itemsize * Z.shape[1])))\n",
        "_, idx = np.unique(T, return_index=True)\n",
        "uZ = Z[idx]\n",
        "print(uZ)\n",
        "uZ = np.unique(Z, axis=0)\n",
        "print(uZ)"
      ]
    },
    {
      "cell_type": "markdown",
      "metadata": {
        "id": "nGzbPfJ9ryXX"
      },
      "source": [
        "#### 97. Considering 2 vectors A & B, write the einsum equivalent of inner, outer, sum, and mul function (★★★) \n",
        "(**hint**: np.einsum)"
      ]
    },
    {
      "cell_type": "code",
      "execution_count": null,
      "metadata": {
        "id": "2M6flM5HryXX",
        "colab": {
          "base_uri": "https://localhost:8080/"
        },
        "outputId": "7630c045-060b-48d2-8242-29760d6c5bf0"
      },
      "outputs": [
        {
          "output_type": "execute_result",
          "data": {
            "text/plain": [
              "array([[0.37, 0.13, 0.14, 0.57, 0.72, 0.21, 0.32, 0.07, 0.13, 0.33],\n",
              "       [0.04, 0.01, 0.01, 0.06, 0.08, 0.02, 0.03, 0.01, 0.01, 0.04],\n",
              "       [0.17, 0.06, 0.06, 0.27, 0.33, 0.1 , 0.15, 0.03, 0.06, 0.15],\n",
              "       [0.43, 0.15, 0.16, 0.66, 0.82, 0.24, 0.36, 0.09, 0.15, 0.37],\n",
              "       [0.06, 0.02, 0.02, 0.09, 0.12, 0.03, 0.05, 0.01, 0.02, 0.05],\n",
              "       [0.4 , 0.14, 0.15, 0.62, 0.77, 0.23, 0.34, 0.08, 0.14, 0.35],\n",
              "       [0.04, 0.01, 0.02, 0.06, 0.08, 0.02, 0.04, 0.01, 0.01, 0.04],\n",
              "       [0.18, 0.07, 0.07, 0.29, 0.36, 0.11, 0.16, 0.04, 0.07, 0.16],\n",
              "       [0.05, 0.02, 0.02, 0.09, 0.11, 0.03, 0.05, 0.01, 0.02, 0.05],\n",
              "       [0.24, 0.09, 0.09, 0.37, 0.46, 0.13, 0.2 , 0.05, 0.09, 0.21]])"
            ]
          },
          "metadata": {},
          "execution_count": 155
        }
      ],
      "source": [
        "A = np.random.uniform(0,1,10)\n",
        "B = np.random.uniform(0,1,10)\n",
        "np.einsum('i->', A)       \n",
        "np.einsum('i,i->i', A, B) \n",
        "np.einsum('i,i', A, B)    \n",
        "np.einsum('i,j->ij', A, B)"
      ]
    },
    {
      "cell_type": "markdown",
      "metadata": {
        "id": "8cRHVfj1ryXX"
      },
      "source": [
        "#### 98. Considering a path described by two vectors (X,Y), how to sample it using equidistant samples (★★★)? \n",
        "(**hint**: np.cumsum, np.interp)"
      ]
    },
    {
      "cell_type": "code",
      "execution_count": null,
      "metadata": {
        "collapsed": true,
        "id": "z8cKn6CNryXX"
      },
      "outputs": [],
      "source": [
        "phi = np.arange(0, 10*np.pi, 0.1)\n",
        "a = 1\n",
        "x = a*phi*np.cos(phi)\n",
        "y = a*phi*np.sin(phi)\n",
        "dr = (np.diff(x)**2 + np.diff(y)**2)**.5\n",
        "r = np.zeros_like(x)\n",
        "r[1:] = np.cumsum(dr)                \n",
        "r_int = np.linspace(0, r.max(), 200) \n",
        "x_int = np.interp(r_int, r, x)       \n",
        "y_int = np.interp(r_int, r, y)"
      ]
    },
    {
      "cell_type": "markdown",
      "metadata": {
        "id": "8n2uo68IryXY"
      },
      "source": [
        "#### 99. Given an integer n and a 2D array X, select from X the rows which can be interpreted as draws from a multinomial distribution with n degrees, i.e., the rows which only contain integers and which sum to n. (★★★) \n",
        "(**hint**: np.logical\\_and.reduce, np.mod)"
      ]
    },
    {
      "cell_type": "code",
      "execution_count": null,
      "metadata": {
        "id": "gdQRjbV7ryXY",
        "colab": {
          "base_uri": "https://localhost:8080/"
        },
        "outputId": "24a2d158-68f7-4549-82da-ab4e2c754cdf"
      },
      "outputs": [
        {
          "output_type": "stream",
          "name": "stdout",
          "text": [
            "[[2. 0. 1. 1.]]\n"
          ]
        }
      ],
      "source": [
        "X=np.asarray([[1.0, 0.0, 3.0, 8.0],\n",
        "                [2.0, 0.0, 1.0, 1.0],\n",
        "                [1.5, 2.5, 1.0, 0.0]])\n",
        "n=4\n",
        "M=np.logical_and.reduce(np.mod(X, 1) == 0, axis=-1)\n",
        "M&=(X.sum(axis=-1) == n)\n",
        "print(X[M])"
      ]
    },
    {
      "cell_type": "markdown",
      "metadata": {
        "id": "8MpAgYRvryXY"
      },
      "source": [
        "#### 100. Compute bootstrapped 95% confidence intervals for the mean of a 1D array X (i.e., resample the elements of an array with replacement N times, compute the mean of each sample, and then compute percentiles over the means). (★★★) \n",
        "(**hint**: np.percentile)"
      ]
    },
    {
      "cell_type": "code",
      "execution_count": null,
      "metadata": {
        "id": "4X_cXCzzryXY",
        "colab": {
          "base_uri": "https://localhost:8080/"
        },
        "outputId": "e4001d65-0ec4-45dd-e13c-b35b85ebd4dc"
      },
      "outputs": [
        {
          "output_type": "stream",
          "name": "stdout",
          "text": [
            "[-0.21  0.14]\n"
          ]
        }
      ],
      "source": [
        "X=np.random.randn(100) \n",
        "N=1000 \n",
        "idx=np.random.randint(0, X.size, (N, X.size))\n",
        "means=X[idx].mean(axis=1)\n",
        "confint=np.percentile(means, [2.5, 97.5])\n",
        "print(confint)"
      ]
    }
  ],
  "metadata": {
    "colab": {
      "collapsed_sections": [],
      "name": "Numpy_tasks(2).ipynb",
      "provenance": [],
      "include_colab_link": true
    },
    "kernelspec": {
      "display_name": "Python 3",
      "language": "python",
      "name": "python3"
    },
    "language_info": {
      "codemirror_mode": {
        "name": "ipython",
        "version": 3
      },
      "file_extension": ".py",
      "mimetype": "text/x-python",
      "name": "python",
      "nbconvert_exporter": "python",
      "pygments_lexer": "ipython3",
      "version": "3.8.3"
    }
  },
  "nbformat": 4,
  "nbformat_minor": 0
}